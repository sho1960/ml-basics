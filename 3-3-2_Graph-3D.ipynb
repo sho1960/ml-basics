{
 "cells": [
  {
   "cell_type": "markdown",
   "metadata": {
    "id": "ZSQNFJ2A15-D"
   },
   "source": [
    "## 3-3-2 グラフ表示プログラム（3D）"
   ]
  },
  {
   "cell_type": "markdown",
   "metadata": {},
   "source": [
    "### ライブラリのインポート"
   ]
  },
  {
   "cell_type": "code",
   "execution_count": null,
   "metadata": {
    "id": "z0FuSfP4CGD5"
   },
   "outputs": [],
   "source": [
    "import numpy as np\n",
    "import matplotlib.pyplot as plt\n",
    "from mpl_toolkits.mplot3d import Axes3D\n",
    "%matplotlib inline"
   ]
  },
  {
   "cell_type": "markdown",
   "metadata": {},
   "source": [
    "- numpy\n",
    "  - 描画用データの配列を使用するために使用\n",
    "- matplotlib\n",
    "  - グラフ描画のためのライブラリ\n",
    "- Axes3D\n",
    "  - matplotlibで3次元グラフ描画のあための関数"
   ]
  },
  {
   "cell_type": "markdown",
   "metadata": {},
   "source": [
    "### データファイルの読み込み"
   ]
  },
  {
   "cell_type": "code",
   "execution_count": null,
   "metadata": {
    "id": "jOb43aeQCGED"
   },
   "outputs": [],
   "source": [
    "d = np.genfromtxt('data/iris.csv', delimiter=',')\n",
    "d[:5]"
   ]
  },
  {
   "cell_type": "markdown",
   "metadata": {},
   "source": [
    "- np.genfromtxt\n",
    "  - numpyのCSVファイル読み込み関数\n",
    "  - 数値のみ読み込み、文字列は欠損値:NaNとして処理する\n",
    "- d[:5]\n",
    "  - 読み込んだデータ（d）の先頭5個を表示"
   ]
  },
  {
   "cell_type": "markdown",
   "metadata": {},
   "source": [
    "### 描画データの抽出"
   ]
  },
  {
   "cell_type": "code",
   "execution_count": null,
   "metadata": {
    "id": "3US4fzbrCGEM"
   },
   "outputs": [],
   "source": [
    "d1 = d[d[:,0] >= 7]\n",
    "d2 = d[(d[:,0] < 7) & ((d[:,1] > 3) & (d[:,1] <= 3.5))]\n",
    "d3 = d[(d[:,0] < 7) & ((d[:,1] <= 3) | (d[:,1] > 3.5))]"
   ]
  },
  {
   "cell_type": "markdown",
   "metadata": {},
   "source": [
    "- d1\n",
    "  - sepal_length（d[:,0]）が7以上のデータ\n",
    "- d2\n",
    "  - sepal_lengthが7未満かつsepal_widthが3より大きく3.5以下のデータ\n",
    "- d3\n",
    "  - sepal_lengthが7未満かつsepal_widthが3以下または3.5より大きいデータ"
   ]
  },
  {
   "cell_type": "markdown",
   "metadata": {},
   "source": [
    "### グラフの描画"
   ]
  },
  {
   "cell_type": "code",
   "execution_count": null,
   "metadata": {
    "id": "3US4fzbrCGEM"
   },
   "outputs": [],
   "source": [
    "# インスタンスの生成\n",
    "fig = plt.figure(figsize=(7, 7))\n",
    "ax = fig.add_subplot(projection='3d')\n",
    "\n",
    "# 軸ラベルの設定\n",
    "ax.set_xlabel('X-axis')\n",
    "ax.set_ylabel('Y-axis')\n",
    "ax.set_zlabel('Z-axis')\n",
    "\n",
    "# グラフ描画\n",
    "ax.plot(d1[:,0], d1[:,1], d1[:,2], '.', color='blue')\n",
    "ax.plot(d2[:,0], d2[:,1], d2[:,2], '.', color='green')\n",
    "ax.plot(d3[:,0], d3[:,1], d3[:,2], '.', color='red')"
   ]
  },
  {
   "cell_type": "markdown",
   "metadata": {},
   "source": [
    "- インスタンスの生成\n",
    "  - plt.figure(figsize=(7, 7))：プロット領域のサイズを7×7に設定\n",
    "  - fig.add_subplot(projection='3d')：figインスタンスに3次元の軸領域を確保\n",
    "- 軸ラベルの設定\n",
    "  - set_xlabel、set_ylabel、set_zlabel：X軸、Y軸、Z軸のラベル名を設定\n",
    "- グラフ描画\n",
    "  - ax.plot(･･･)：d1、d2、d3それぞれのsepal_length（0）、sepal_width（1）、petal_length（2）を色を変えて描画"
   ]
  }
 ],
 "metadata": {
  "colab": {
   "collapsed_sections": [],
   "name": "3-4_Graph(3D).ipynb",
   "provenance": []
  },
  "kernelspec": {
   "display_name": "Python 3",
   "language": "python",
   "name": "python3"
  },
  "language_info": {
   "codemirror_mode": {
    "name": "ipython",
    "version": 3
   },
   "file_extension": ".py",
   "mimetype": "text/x-python",
   "name": "python",
   "nbconvert_exporter": "python",
   "pygments_lexer": "ipython3",
   "version": "3.7.6"
  }
 },
 "nbformat": 4,
 "nbformat_minor": 4
}
