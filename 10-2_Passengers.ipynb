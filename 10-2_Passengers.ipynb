{
 "cells": [
  {
   "cell_type": "markdown",
   "metadata": {
    "id": "xtCK9V4l2NL1"
   },
   "source": [
    "## 10-2 エアライン乗客数の予測（LSTM）"
   ]
  },
  {
   "cell_type": "markdown",
   "metadata": {
    "id": "1Nb7aRJh2NL6"
   },
   "source": [
    "### ライブラリーのインポート"
   ]
  },
  {
   "cell_type": "code",
   "execution_count": null,
   "metadata": {
    "id": "gwRHCBKD2NL7"
   },
   "outputs": [],
   "source": [
    "import pandas as pd \n",
    "import numpy as np\n",
    "import random\n",
    "from keras.models import Sequential\n",
    "from keras.layers import Dense, Activation\n",
    "from keras.layers import LSTM\n",
    "from sklearn.metrics import r2_score, mean_squared_error\n",
    "import matplotlib.pyplot as plt\n",
    "%matplotlib inline\n",
    "np.random.seed(seed=5)"
   ]
  },
  {
   "cell_type": "markdown",
   "metadata": {},
   "source": [
    "- keras.layers.LSTM\n",
    "  - LSTMモデルのためのライブラリ\n",
    "- sklearn.metrics\n",
    "  - r2_score：決定係数を求める関数\n",
    "  - mean_squared_error：平均二乗誤差を求める関数\n",
    "- np.random.seed(seed=5)\n",
    "  - 発生する乱数のパターンを固定する（分析処理で再現性が必要な場合に使用）"
   ]
  },
  {
   "cell_type": "markdown",
   "metadata": {
    "id": "0X2lkxSl2NL-"
   },
   "source": [
    "### データの読み込みと可視化"
   ]
  },
  {
   "cell_type": "code",
   "execution_count": null,
   "metadata": {
    "id": "KWfvSPBQ2NL_"
   },
   "outputs": [],
   "source": [
    "df = pd.read_csv('data/airline-passengers.csv')\n",
    "print(df.count())\n",
    "df.plot()\n",
    "df.head()"
   ]
  },
  {
   "cell_type": "markdown",
   "metadata": {
    "id": "JHRELzy-2NMA"
   },
   "source": [
    "### データの正規化（Mini-Max）"
   ]
  },
  {
   "cell_type": "code",
   "execution_count": null,
   "metadata": {
    "id": "IEzcrPtZ2NMA"
   },
   "outputs": [],
   "source": [
    "# 最小値 0、最大値 1となるように正規化する\n",
    "raw_data = np.array(df['passengers'].astype('float32'))\n",
    "raw_data -= np.min(np.abs(raw_data))\n",
    "raw_data /= np.max(np.abs(raw_data))\n",
    "# 基本統計量を確認する\n",
    "pd.DataFrame(raw_data, columns=['raw_data']).describe()"
   ]
  },
  {
   "cell_type": "markdown",
   "metadata": {
    "id": "IXyr9z1N2NMB"
   },
   "source": [
    "### 訓練データの作成"
   ]
  },
  {
   "cell_type": "code",
   "execution_count": null,
   "metadata": {
    "id": "YQFYaT502NMB"
   },
   "outputs": [],
   "source": [
    "# 訓練データのステップ数（ウィンドウサイズ）\n",
    "length_of_sequence = 12\n",
    "# 予測対象期間（最後の2年間）を除外したデータウィンドウ数\n",
    "number_of_window = len(raw_data) - length_of_sequence - 24\n",
    "# 訓練データ（data, target）の作成\n",
    "x, y = [], [] \n",
    "for i in range(number_of_window):\n",
    "    x.append(raw_data[i:i + length_of_sequence])\n",
    "    y.append(raw_data[i + length_of_sequence])\n",
    "data = np.array(x).reshape(len(x), length_of_sequence, 1)\n",
    "target = np.array(y).reshape(len(y), 1)\n",
    "# データの形状と要素数の確認\n",
    "print(data.shape)\n",
    "print(target.shape)"
   ]
  },
  {
   "cell_type": "markdown",
   "metadata": {},
   "source": [
    "- 12個の連続したデータを元に13個目のデータを予測する。\n",
    "- ｘ：訓練データ（data）作成用、y：予測対象データ（target）作成用"
   ]
  },
  {
   "cell_type": "markdown",
   "metadata": {
    "id": "mLh3FHEm-JWz"
   },
   "source": [
    "### ハイパーパラメータの設定"
   ]
  },
  {
   "cell_type": "code",
   "execution_count": null,
   "metadata": {
    "id": "s0-BT1DU-Goc"
   },
   "outputs": [],
   "source": [
    "n_hidden = 300       # 隠れ層の数\n",
    "n_epochs = 100       # エポック数"
   ]
  },
  {
   "cell_type": "markdown",
   "metadata": {
    "id": "EXhAbmvA2NMB"
   },
   "source": [
    "### 学習モデルの構築"
   ]
  },
  {
   "cell_type": "code",
   "execution_count": null,
   "metadata": {
    "id": "rHP0n2hz2NMD"
   },
   "outputs": [],
   "source": [
    "# モデル定義 \n",
    "model = Sequential()\n",
    "in_out_neurons = 1\n",
    "model.add(\n",
    "    LSTM(n_hidden, batch_input_shape=(None, length_of_sequence, in_out_neurons)))\n",
    "model.add(Dense(in_out_neurons))\n",
    "model.add(Activation('linear'))"
   ]
  },
  {
   "cell_type": "markdown",
   "metadata": {},
   "source": [
    "- LSTMモデルと定義する。\n",
    "  - n_hidden：隠れ層（セル）の数\n",
    "  - batch_input_shape：入力データの形式（batch_size, timesteps, input_dim）"
   ]
  },
  {
   "cell_type": "markdown",
   "metadata": {
    "id": "zwOnPyCJ2NMD"
   },
   "source": [
    "### 学習の実行"
   ]
  },
  {
   "cell_type": "code",
   "execution_count": null,
   "metadata": {
    "id": "idWmhMtW2NMD"
   },
   "outputs": [],
   "source": [
    "%%time\n",
    "model.compile(loss='mean_squared_error', optimizer='adam')\n",
    "model.fit(data, target, batch_size=1, epochs=n_epochs, validation_split=0.1)\n",
    "predicted = model.predict(data)"
   ]
  },
  {
   "cell_type": "markdown",
   "metadata": {},
   "source": [
    "- **mean_squared_error**: 平均二乗誤差"
   ]
  },
  {
   "cell_type": "markdown",
   "metadata": {
    "id": "juL23ev_2NME"
   },
   "source": [
    "### 乗客数の予測"
   ]
  },
  {
   "cell_type": "code",
   "execution_count": null,
   "metadata": {
    "id": "SrFyRngP2NME"
   },
   "outputs": [],
   "source": [
    "# 訓練データ区間の乗客数の予測\n",
    "predicted = model.predict(data)\n",
    "# 将来2年間の乗客数の予測\n",
    "future_test = data[len(data)-1]    \n",
    "future_result = []\n",
    "for i in range(length_of_sequence * 2):\n",
    "    test_data = np.reshape(future_test, (1, length_of_sequence, 1))\n",
    "    batch_predict = model.predict(test_data)\n",
    "    future_test = np.delete(future_test, 0)\n",
    "    future_test = np.append(future_test, batch_predict)\n",
    "    future_result = np.append(future_result, batch_predict)"
   ]
  },
  {
   "cell_type": "markdown",
   "metadata": {},
   "source": [
    "- 学習結果を元に、1959年〜1960年を予測する処理\n",
    "- future_test\n",
    "  - 予測用データ（初期値はdataの最後 1958年1月〜1958年12月）\n",
    "- future_result\n",
    "  - 予測結果を保存するリスト"
   ]
  },
  {
   "cell_type": "markdown",
   "metadata": {
    "id": "TRWXUNFs2NME"
   },
   "source": [
    "### 予測結果のプロット"
   ]
  },
  {
   "cell_type": "code",
   "execution_count": null,
   "metadata": {
    "id": "PCkfcUJh2NMF"
   },
   "outputs": [],
   "source": [
    "plt.figure()\n",
    "plt.plot(range(0, len(raw_data)), raw_data, color='b', label='raw')\n",
    "plt.plot(range(12,len(predicted)+12),predicted, color='r', label='predict')  \n",
    "plt.plot(range(0+len(raw_data)-24, len(future_result)+len(raw_data)-24),\n",
    "         future_result, color='g', label='future') \n",
    "plt.legend()\n",
    "plt.show()"
   ]
  },
  {
   "cell_type": "markdown",
   "metadata": {},
   "source": [
    "- fraw_data（青）\n",
    "  - 元データ（1949〜1960）\n",
    "- predict（赤）\n",
    "  - 学習時の予測データ（1950〜1958）\n",
    "- future（緑）\n",
    "  - 学習後の予測データ（1959〜1960）"
   ]
  },
  {
   "cell_type": "markdown",
   "metadata": {
    "id": "ew_2OLqu2NMF"
   },
   "source": [
    "### 学習済みモデルの評価"
   ]
  },
  {
   "cell_type": "code",
   "execution_count": null,
   "metadata": {
    "id": "pzGc_aVk2NMG"
   },
   "outputs": [],
   "source": [
    "# 決定係数と平均平方二乗誤差でモデルを評価\n",
    "r2 = r2_score(target, predicted)\n",
    "rmse = np.sqrt(mean_squared_error(target, predicted))\n",
    "print('R2  :', r2)\n",
    "print('RMSE:', rmse)"
   ]
  },
  {
   "cell_type": "markdown",
   "metadata": {
    "id": "wfh50Kzs2NMG"
   },
   "source": [
    "### 実測値と予測値の相関グラフ"
   ]
  },
  {
   "cell_type": "code",
   "execution_count": null,
   "metadata": {
    "id": "u44-5ksa2NMH"
   },
   "outputs": [],
   "source": [
    "plt.figure()\n",
    "plt.scatter(target, predicted)\n",
    "plt.xlabel('measured')\n",
    "plt.ylabel('predicted')\n",
    "plt.show()"
   ]
  }
 ],
 "metadata": {
  "colab": {
   "collapsed_sections": [],
   "name": "8-1_Passengers.ipynb",
   "provenance": []
  },
  "kernelspec": {
   "display_name": "Python 3",
   "language": "python",
   "name": "python3"
  },
  "language_info": {
   "codemirror_mode": {
    "name": "ipython",
    "version": 3
   },
   "file_extension": ".py",
   "mimetype": "text/x-python",
   "name": "python",
   "nbconvert_exporter": "python",
   "pygments_lexer": "ipython3",
   "version": "3.7.6"
  }
 },
 "nbformat": 4,
 "nbformat_minor": 4
}
