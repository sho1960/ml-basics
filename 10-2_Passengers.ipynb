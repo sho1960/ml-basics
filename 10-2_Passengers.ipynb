{
 "cells": [
  {
   "cell_type": "markdown",
   "metadata": {
    "id": "xtCK9V4l2NL1"
   },
   "source": [
    "## 10-2 エアライン乗客数の予測（LSTM）"
   ]
  },
  {
   "cell_type": "markdown",
   "metadata": {
    "id": "1Nb7aRJh2NL6"
   },
   "source": [
    "### ライブラリーのインポート"
   ]
  },
  {
   "cell_type": "code",
   "execution_count": 1,
   "metadata": {
    "id": "gwRHCBKD2NL7"
   },
   "outputs": [],
   "source": [
    "import pandas as pd \n",
    "import numpy as np\n",
    "import random\n",
    "from tensorflow.keras.models import Sequential\n",
    "from tensorflow.keras.layers import Dense, Activation\n",
    "from tensorflow.keras.layers import LSTM\n",
    "from sklearn.metrics import r2_score, mean_squared_error\n",
    "import matplotlib.pyplot as plt\n",
    "%matplotlib inline\n",
    "np.random.seed(seed=5)"
   ]
  },
  {
   "cell_type": "markdown",
   "metadata": {},
   "source": [
    "- keras.layers.LSTM\n",
    "  - LSTMモデルのためのライブラリ\n",
    "- sklearn.metrics\n",
    "  - r2_score：決定係数を求める関数\n",
    "  - mean_squared_error：平均二乗誤差を求める関数\n",
    "- np.random.seed(seed=5)\n",
    "  - 発生する乱数のパターンを固定する（分析処理で再現性が必要な場合に使用）"
   ]
  },
  {
   "cell_type": "markdown",
   "metadata": {
    "id": "0X2lkxSl2NL-"
   },
   "source": [
    "### データの読み込みと可視化"
   ]
  },
  {
   "cell_type": "code",
   "execution_count": 2,
   "metadata": {
    "id": "KWfvSPBQ2NL_"
   },
   "outputs": [
    {
     "name": "stdout",
     "output_type": "stream",
     "text": [
      "time          144\n",
      "passengers    144\n",
      "dtype: int64\n"
     ]
    },
    {
     "data": {
      "text/html": [
       "<div>\n",
       "<style scoped>\n",
       "    .dataframe tbody tr th:only-of-type {\n",
       "        vertical-align: middle;\n",
       "    }\n",
       "\n",
       "    .dataframe tbody tr th {\n",
       "        vertical-align: top;\n",
       "    }\n",
       "\n",
       "    .dataframe thead th {\n",
       "        text-align: right;\n",
       "    }\n",
       "</style>\n",
       "<table border=\"1\" class=\"dataframe\">\n",
       "  <thead>\n",
       "    <tr style=\"text-align: right;\">\n",
       "      <th></th>\n",
       "      <th>time</th>\n",
       "      <th>passengers</th>\n",
       "    </tr>\n",
       "  </thead>\n",
       "  <tbody>\n",
       "    <tr>\n",
       "      <th>0</th>\n",
       "      <td>1949-01</td>\n",
       "      <td>112</td>\n",
       "    </tr>\n",
       "    <tr>\n",
       "      <th>1</th>\n",
       "      <td>1949-02</td>\n",
       "      <td>118</td>\n",
       "    </tr>\n",
       "    <tr>\n",
       "      <th>2</th>\n",
       "      <td>1949-03</td>\n",
       "      <td>132</td>\n",
       "    </tr>\n",
       "    <tr>\n",
       "      <th>3</th>\n",
       "      <td>1949-04</td>\n",
       "      <td>129</td>\n",
       "    </tr>\n",
       "    <tr>\n",
       "      <th>4</th>\n",
       "      <td>1949-05</td>\n",
       "      <td>121</td>\n",
       "    </tr>\n",
       "  </tbody>\n",
       "</table>\n",
       "</div>"
      ],
      "text/plain": [
       "      time  passengers\n",
       "0  1949-01         112\n",
       "1  1949-02         118\n",
       "2  1949-03         132\n",
       "3  1949-04         129\n",
       "4  1949-05         121"
      ]
     },
     "execution_count": 2,
     "metadata": {},
     "output_type": "execute_result"
    },
    {
     "data": {
      "image/png": "[encoded data removed]",
      "text/plain": [
       "<Figure size 432x288 with 1 Axes>"
      ]
     },
     "metadata": {
      "needs_background": "light"
     },
     "output_type": "display_data"
    }
   ],
   "source": [
    "df = pd.read_csv('data/airline-passengers.csv')\n",
    "print(df.count())\n",
    "df.plot()\n",
    "df.head()"
   ]
  },
  {
   "cell_type": "markdown",
   "metadata": {
    "id": "JHRELzy-2NMA"
   },
   "source": [
    "### データの正規化（Mini-Max）"
   ]
  },
  {
   "cell_type": "code",
   "execution_count": 3,
   "metadata": {
    "id": "IEzcrPtZ2NMA"
   },
   "outputs": [
    {
     "data": {
      "text/html": [
       "<div>\n",
       "<style scoped>\n",
       "    .dataframe tbody tr th:only-of-type {\n",
       "        vertical-align: middle;\n",
       "    }\n",
       "\n",
       "    .dataframe tbody tr th {\n",
       "        vertical-align: top;\n",
       "    }\n",
       "\n",
       "    .dataframe thead th {\n",
       "        text-align: right;\n",
       "    }\n",
       "</style>\n",
       "<table border=\"1\" class=\"dataframe\">\n",
       "  <thead>\n",
       "    <tr style=\"text-align: right;\">\n",
       "      <th></th>\n",
       "      <th>raw_data</th>\n",
       "    </tr>\n",
       "  </thead>\n",
       "  <tbody>\n",
       "    <tr>\n",
       "      <th>count</th>\n",
       "      <td>144.000000</td>\n",
       "    </tr>\n",
       "    <tr>\n",
       "      <th>mean</th>\n",
       "      <td>0.340345</td>\n",
       "    </tr>\n",
       "    <tr>\n",
       "      <th>std</th>\n",
       "      <td>0.231595</td>\n",
       "    </tr>\n",
       "    <tr>\n",
       "      <th>min</th>\n",
       "      <td>0.000000</td>\n",
       "    </tr>\n",
       "    <tr>\n",
       "      <th>25%</th>\n",
       "      <td>0.146718</td>\n",
       "    </tr>\n",
       "    <tr>\n",
       "      <th>50%</th>\n",
       "      <td>0.311776</td>\n",
       "    </tr>\n",
       "    <tr>\n",
       "      <th>75%</th>\n",
       "      <td>0.495174</td>\n",
       "    </tr>\n",
       "    <tr>\n",
       "      <th>max</th>\n",
       "      <td>1.000000</td>\n",
       "    </tr>\n",
       "  </tbody>\n",
       "</table>\n",
       "</div>"
      ],
      "text/plain": [
       "         raw_data\n",
       "count  144.000000\n",
       "mean     0.340345\n",
       "std      0.231595\n",
       "min      0.000000\n",
       "25%      0.146718\n",
       "50%      0.311776\n",
       "75%      0.495174\n",
       "max      1.000000"
      ]
     },
     "execution_count": 3,
     "metadata": {},
     "output_type": "execute_result"
    }
   ],
   "source": [
    "# 最小値 0、最大値 1となるように正規化する\n",
    "raw_data = np.array(df['passengers'].astype('float32'))\n",
    "raw_data -= np.min(np.abs(raw_data))\n",
    "raw_data /= np.max(np.abs(raw_data))\n",
    "# 基本統計量を確認する\n",
    "pd.DataFrame(raw_data, columns=['raw_data']).describe()"
   ]
  },
  {
   "cell_type": "markdown",
   "metadata": {
    "id": "IXyr9z1N2NMB"
   },
   "source": [
    "### 訓練データの作成"
   ]
  },
  {
   "cell_type": "code",
   "execution_count": 4,
   "metadata": {
    "id": "YQFYaT502NMB"
   },
   "outputs": [
    {
     "name": "stdout",
     "output_type": "stream",
     "text": [
      "(108, 12, 1)\n",
      "(108, 1)\n"
     ]
    }
   ],
   "source": [
    "# 訓練データのステップ数（ウィンドウサイズ）\n",
    "length_of_sequence = 12\n",
    "# 予測対象期間（最後の2年間）を除外したデータウィンドウ数\n",
    "number_of_window = len(raw_data) - length_of_sequence - 24\n",
    "# 訓練データ（data, target）の作成\n",
    "x, y = [], [] \n",
    "for i in range(number_of_window):\n",
    "    x.append(raw_data[i:i + length_of_sequence])\n",
    "    y.append(raw_data[i + length_of_sequence])\n",
    "data = np.array(x).reshape(len(x), length_of_sequence, 1)\n",
    "target = np.array(y).reshape(len(y), 1)\n",
    "# データの形状と要素数の確認\n",
    "print(data.shape)\n",
    "print(target.shape)"
   ]
  },
  {
   "cell_type": "markdown",
   "metadata": {},
   "source": [
    "- 12個の連続したデータを元に13個目のデータを予測する。\n",
    "- ｘ：訓練データ（data）作成用、y：予測対象データ（target）作成用"
   ]
  },
  {
   "cell_type": "markdown",
   "metadata": {
    "id": "mLh3FHEm-JWz"
   },
   "source": [
    "### ハイパーパラメータの設定"
   ]
  },
  {
   "cell_type": "code",
   "execution_count": 5,
   "metadata": {
    "id": "s0-BT1DU-Goc"
   },
   "outputs": [],
   "source": [
    "n_hidden = 300       # 隠れ層の数\n",
    "n_epochs = 100       # エポック数"
   ]
  },
  {
   "cell_type": "markdown",
   "metadata": {
    "id": "EXhAbmvA2NMB"
   },
   "source": [
    "### 学習モデルの構築"
   ]
  },
  {
   "cell_type": "code",
   "execution_count": 6,
   "metadata": {
    "id": "rHP0n2hz2NMD"
   },
   "outputs": [],
   "source": [
    "# モデル定義 \n",
    "model = Sequential()\n",
    "in_out_neurons = 1\n",
    "model.add(\n",
    "    LSTM(n_hidden, batch_input_shape=(None, length_of_sequence, in_out_neurons)))\n",
    "model.add(Dense(in_out_neurons))\n",
    "model.add(Activation('linear'))"
   ]
  },
  {
   "cell_type": "markdown",
   "metadata": {},
   "source": [
    "- LSTMモデルと定義する。\n",
    "  - n_hidden：隠れ層（セル）の数\n",
    "  - batch_input_shape：入力データの形式（batch_size, timesteps, input_dim）"
   ]
  },
  {
   "cell_type": "markdown",
   "metadata": {
    "id": "zwOnPyCJ2NMD"
   },
   "source": [
    "### 学習の実行"
   ]
  },
  {
   "cell_type": "code",
   "execution_count": 7,
   "metadata": {
    "id": "idWmhMtW2NMD"
   },
   "outputs": [
    {
     "name": "stdout",
     "output_type": "stream",
     "text": [
      "Epoch 1/100\n",
      "97/97 [==============================] - 4s 26ms/step - loss: 0.0115 - val_loss: 0.0268\n",
      "Epoch 2/100\n",
      "97/97 [==============================] - 2s 16ms/step - loss: 0.0080 - val_loss: 0.0158\n",
      "Epoch 3/100\n",
      "97/97 [==============================] - 2s 17ms/step - loss: 0.0075 - val_loss: 0.0148\n",
      "Epoch 4/100\n",
      "97/97 [==============================] - 2s 19ms/step - loss: 0.0080 - val_loss: 0.0124\n",
      "Epoch 5/100\n",
      "97/97 [==============================] - 1s 15ms/step - loss: 0.0043 - val_loss: 0.0112\n",
      "Epoch 6/100\n",
      "97/97 [==============================] - 2s 16ms/step - loss: 0.0043 - val_loss: 0.0093\n",
      "Epoch 7/100\n",
      "97/97 [==============================] - 2s 16ms/step - loss: 0.0030 - val_loss: 0.0045\n",
      "Epoch 8/100\n",
      "97/97 [==============================] - 1s 14ms/step - loss: 0.0034 - val_loss: 0.0117\n",
      "Epoch 9/100\n",
      "97/97 [==============================] - 2s 16ms/step - loss: 0.0043 - val_loss: 0.0124\n",
      "Epoch 10/100\n",
      "97/97 [==============================] - 2s 16ms/step - loss: 0.0031 - val_loss: 0.0085\n",
      "Epoch 11/100\n",
      "97/97 [==============================] - 2s 17ms/step - loss: 0.0030 - val_loss: 0.0068\n",
      "Epoch 12/100\n",
      "97/97 [==============================] - 1s 14ms/step - loss: 0.0030 - val_loss: 0.0064\n",
      "Epoch 13/100\n",
      "97/97 [==============================] - 1s 15ms/step - loss: 0.0024 - val_loss: 0.0088\n",
      "Epoch 14/100\n",
      "97/97 [==============================] - 2s 17ms/step - loss: 0.0021 - val_loss: 0.0056\n",
      "Epoch 15/100\n",
      "97/97 [==============================] - 1s 15ms/step - loss: 0.0024 - val_loss: 0.0053\n",
      "Epoch 16/100\n",
      "97/97 [==============================] - 1s 15ms/step - loss: 0.0023 - val_loss: 0.0054\n",
      "Epoch 17/100\n",
      "97/97 [==============================] - 2s 18ms/step - loss: 0.0019 - val_loss: 0.0052\n",
      "Epoch 18/100\n",
      "97/97 [==============================] - 2s 16ms/step - loss: 0.0018 - val_loss: 0.0033\n",
      "Epoch 19/100\n",
      "97/97 [==============================] - 2s 17ms/step - loss: 0.0017 - val_loss: 0.0064\n",
      "Epoch 20/100\n",
      "97/97 [==============================] - 2s 20ms/step - loss: 0.0015 - val_loss: 0.0047\n",
      "Epoch 21/100\n",
      "97/97 [==============================] - 2s 25ms/step - loss: 0.0019 - val_loss: 0.0058\n",
      "Epoch 22/100\n",
      "97/97 [==============================] - 2s 21ms/step - loss: 0.0019 - val_loss: 0.0069\n",
      "Epoch 23/100\n",
      "97/97 [==============================] - 2s 21ms/step - loss: 0.0014 - val_loss: 0.0082\n",
      "Epoch 24/100\n",
      "97/97 [==============================] - 2s 25ms/step - loss: 0.0024 - val_loss: 0.0056\n",
      "Epoch 25/100\n",
      "97/97 [==============================] - 2s 20ms/step - loss: 0.0021 - val_loss: 0.0119\n",
      "Epoch 26/100\n",
      "97/97 [==============================] - 2s 21ms/step - loss: 0.0024 - val_loss: 0.0038\n",
      "Epoch 27/100\n",
      "97/97 [==============================] - 3s 27ms/step - loss: 0.0018 - val_loss: 0.0071\n",
      "Epoch 28/100\n",
      "97/97 [==============================] - 3s 34ms/step - loss: 0.0016 - val_loss: 0.0033\n",
      "Epoch 29/100\n",
      "97/97 [==============================] - 3s 31ms/step - loss: 0.0015 - val_loss: 0.0053\n",
      "Epoch 30/100\n",
      "97/97 [==============================] - 2s 17ms/step - loss: 0.0025 - val_loss: 0.0116\n",
      "Epoch 31/100\n",
      "97/97 [==============================] - 2s 19ms/step - loss: 0.0018 - val_loss: 0.0072\n",
      "Epoch 32/100\n",
      "97/97 [==============================] - 2s 19ms/step - loss: 0.0020 - val_loss: 0.0062\n",
      "Epoch 33/100\n",
      "97/97 [==============================] - 1s 14ms/step - loss: 0.0016 - val_loss: 0.0094\n",
      "Epoch 34/100\n",
      "97/97 [==============================] - 1s 13ms/step - loss: 0.0015 - val_loss: 0.0035\n",
      "Epoch 35/100\n",
      "97/97 [==============================] - 2s 16ms/step - loss: 0.0016 - val_loss: 0.0040\n",
      "Epoch 36/100\n",
      "97/97 [==============================] - 2s 18ms/step - loss: 0.0015 - val_loss: 0.0065\n",
      "Epoch 37/100\n",
      "97/97 [==============================] - 2s 19ms/step - loss: 0.0015 - val_loss: 0.0062\n",
      "Epoch 38/100\n",
      "97/97 [==============================] - 2s 19ms/step - loss: 0.0018 - val_loss: 0.0044\n",
      "Epoch 39/100\n",
      "97/97 [==============================] - 1s 15ms/step - loss: 0.0015 - val_loss: 0.0045\n",
      "Epoch 40/100\n",
      "97/97 [==============================] - 1s 13ms/step - loss: 0.0015 - val_loss: 0.0054\n",
      "Epoch 41/100\n",
      "97/97 [==============================] - 1s 15ms/step - loss: 0.0012 - val_loss: 0.0140\n",
      "Epoch 42/100\n",
      "97/97 [==============================] - 1s 15ms/step - loss: 0.0012 - val_loss: 0.0102\n",
      "Epoch 43/100\n",
      "97/97 [==============================] - 2s 17ms/step - loss: 0.0019 - val_loss: 0.0041\n",
      "Epoch 44/100\n",
      "97/97 [==============================] - 1s 14ms/step - loss: 0.0013 - val_loss: 0.0038\n",
      "Epoch 45/100\n",
      "97/97 [==============================] - 1s 14ms/step - loss: 0.0012 - val_loss: 0.0038\n",
      "Epoch 46/100\n",
      "97/97 [==============================] - 1s 15ms/step - loss: 0.0014 - val_loss: 0.0099\n",
      "Epoch 47/100\n",
      "97/97 [==============================] - 2s 19ms/step - loss: 0.0016 - val_loss: 0.0047\n",
      "Epoch 48/100\n",
      "97/97 [==============================] - 2s 17ms/step - loss: 0.0015 - val_loss: 0.0041\n",
      "Epoch 49/100\n",
      "97/97 [==============================] - 1s 15ms/step - loss: 0.0013 - val_loss: 0.0056\n",
      "Epoch 50/100\n",
      "97/97 [==============================] - 2s 16ms/step - loss: 0.0013 - val_loss: 0.0057\n",
      "Epoch 51/100\n",
      "97/97 [==============================] - 1s 14ms/step - loss: 0.0013 - val_loss: 0.0038\n",
      "Epoch 52/100\n",
      "97/97 [==============================] - 2s 17ms/step - loss: 0.0011 - val_loss: 0.0060\n",
      "Epoch 53/100\n",
      "97/97 [==============================] - 1s 15ms/step - loss: 0.0011 - val_loss: 0.0036\n",
      "Epoch 54/100\n",
      "97/97 [==============================] - 2s 18ms/step - loss: 0.0014 - val_loss: 0.0075\n",
      "Epoch 55/100\n",
      "97/97 [==============================] - 2s 16ms/step - loss: 0.0012 - val_loss: 0.0105\n",
      "Epoch 56/100\n",
      "97/97 [==============================] - 2s 18ms/step - loss: 0.0013 - val_loss: 0.0037\n",
      "Epoch 57/100\n",
      "97/97 [==============================] - 1s 15ms/step - loss: 0.0013 - val_loss: 0.0085\n",
      "Epoch 58/100\n",
      "97/97 [==============================] - 2s 20ms/step - loss: 0.0014 - val_loss: 0.0033\n",
      "Epoch 59/100\n",
      "97/97 [==============================] - 2s 18ms/step - loss: 0.0011 - val_loss: 0.0030\n",
      "Epoch 60/100\n",
      "97/97 [==============================] - 2s 22ms/step - loss: 9.4397e-04 - val_loss: 0.0057\n",
      "Epoch 61/100\n",
      "97/97 [==============================] - 2s 20ms/step - loss: 0.0011 - val_loss: 0.0035\n",
      "Epoch 62/100\n",
      "97/97 [==============================] - 2s 22ms/step - loss: 9.8985e-04 - val_loss: 0.0032\n",
      "Epoch 63/100\n",
      "97/97 [==============================] - 2s 16ms/step - loss: 8.4317e-04 - val_loss: 0.0039\n",
      "Epoch 64/100\n",
      "97/97 [==============================] - 1s 15ms/step - loss: 0.0011 - val_loss: 0.0025\n",
      "Epoch 65/100\n",
      "97/97 [==============================] - 2s 15ms/step - loss: 0.0016 - val_loss: 0.0062\n",
      "Epoch 66/100\n",
      "97/97 [==============================] - 2s 16ms/step - loss: 0.0010 - val_loss: 0.0025\n",
      "Epoch 67/100\n",
      "97/97 [==============================] - 2s 17ms/step - loss: 0.0010 - val_loss: 0.0031\n",
      "Epoch 68/100\n",
      "97/97 [==============================] - 2s 18ms/step - loss: 0.0011 - val_loss: 0.0040\n",
      "Epoch 69/100\n",
      "97/97 [==============================] - 2s 16ms/step - loss: 8.3888e-04 - val_loss: 0.0036\n",
      "Epoch 70/100\n",
      "97/97 [==============================] - 2s 17ms/step - loss: 0.0011 - val_loss: 0.0027\n",
      "Epoch 71/100\n",
      "97/97 [==============================] - 2s 15ms/step - loss: 8.3976e-04 - val_loss: 0.0025\n",
      "Epoch 72/100\n",
      "97/97 [==============================] - 2s 17ms/step - loss: 0.0011 - val_loss: 0.0030\n",
      "Epoch 73/100\n",
      "97/97 [==============================] - 2s 16ms/step - loss: 8.6639e-04 - val_loss: 0.0057\n",
      "Epoch 74/100\n",
      "97/97 [==============================] - 1s 15ms/step - loss: 6.4428e-04 - val_loss: 0.0033\n",
      "Epoch 75/100\n",
      "97/97 [==============================] - 2s 18ms/step - loss: 7.2748e-04 - val_loss: 0.0051\n",
      "Epoch 76/100\n",
      "97/97 [==============================] - 2s 19ms/step - loss: 7.5419e-04 - val_loss: 0.0040\n",
      "Epoch 77/100\n",
      "97/97 [==============================] - 2s 18ms/step - loss: 8.1326e-04 - val_loss: 0.0082\n",
      "Epoch 78/100\n",
      "97/97 [==============================] - 2s 18ms/step - loss: 0.0015 - val_loss: 0.0035\n",
      "Epoch 79/100\n",
      "97/97 [==============================] - 2s 18ms/step - loss: 0.0010 - val_loss: 0.0029\n",
      "Epoch 80/100\n",
      "97/97 [==============================] - 2s 16ms/step - loss: 8.5824e-04 - val_loss: 0.0034\n",
      "Epoch 81/100\n",
      "97/97 [==============================] - 2s 16ms/step - loss: 0.0010 - val_loss: 0.0031\n",
      "Epoch 82/100\n",
      "97/97 [==============================] - 2s 20ms/step - loss: 9.3043e-04 - val_loss: 0.0030\n",
      "Epoch 83/100\n",
      "97/97 [==============================] - 2s 16ms/step - loss: 0.0012 - val_loss: 0.0023\n",
      "Epoch 84/100\n",
      "97/97 [==============================] - 2s 18ms/step - loss: 0.0011 - val_loss: 0.0027\n",
      "Epoch 85/100\n",
      "97/97 [==============================] - 2s 20ms/step - loss: 5.5014e-04 - val_loss: 0.0057\n",
      "Epoch 86/100\n",
      "97/97 [==============================] - 2s 20ms/step - loss: 7.9035e-04 - val_loss: 0.0032\n",
      "Epoch 87/100\n",
      "97/97 [==============================] - 2s 21ms/step - loss: 7.3583e-04 - val_loss: 0.0074\n",
      "Epoch 88/100\n",
      "97/97 [==============================] - 2s 24ms/step - loss: 6.3842e-04 - val_loss: 0.0033\n",
      "Epoch 89/100\n",
      "97/97 [==============================] - 2s 16ms/step - loss: 5.2917e-04 - val_loss: 0.0022\n",
      "Epoch 90/100\n",
      "97/97 [==============================] - 2s 16ms/step - loss: 7.4676e-04 - val_loss: 0.0027\n",
      "Epoch 91/100\n",
      "97/97 [==============================] - 1s 15ms/step - loss: 6.3869e-04 - val_loss: 0.0034\n",
      "Epoch 92/100\n",
      "97/97 [==============================] - 2s 18ms/step - loss: 6.9961e-04 - val_loss: 0.0032\n",
      "Epoch 93/100\n",
      "97/97 [==============================] - 2s 16ms/step - loss: 7.7665e-04 - val_loss: 0.0039\n",
      "Epoch 94/100\n",
      "97/97 [==============================] - 2s 18ms/step - loss: 6.3115e-04 - val_loss: 0.0024\n",
      "Epoch 95/100\n",
      "97/97 [==============================] - 2s 16ms/step - loss: 6.4555e-04 - val_loss: 0.0024\n",
      "Epoch 96/100\n",
      "97/97 [==============================] - 2s 16ms/step - loss: 5.6346e-04 - val_loss: 0.0024\n",
      "Epoch 97/100\n",
      "97/97 [==============================] - 2s 21ms/step - loss: 0.0012 - val_loss: 0.0064\n",
      "Epoch 98/100\n",
      "97/97 [==============================] - 2s 19ms/step - loss: 0.0012 - val_loss: 0.0065\n",
      "Epoch 99/100\n",
      "97/97 [==============================] - 2s 21ms/step - loss: 7.3064e-04 - val_loss: 0.0033\n",
      "Epoch 100/100\n",
      "97/97 [==============================] - 2s 18ms/step - loss: 7.1626e-04 - val_loss: 0.0022\n",
      "CPU times: total: 3min 39s\n",
      "Wall time: 2min 56s\n"
     ]
    }
   ],
   "source": [
    "%%time\n",
    "model.compile(loss='mean_squared_error', optimizer='adam')\n",
    "model.fit(data, target, batch_size=1, epochs=n_epochs, validation_split=0.1)\n",
    "predicted = model.predict(data)"
   ]
  },
  {
   "cell_type": "markdown",
   "metadata": {},
   "source": [
    "- **mean_squared_error**: 平均二乗誤差"
   ]
  },
  {
   "cell_type": "markdown",
   "metadata": {
    "id": "juL23ev_2NME"
   },
   "source": [
    "### 乗客数の予測"
   ]
  },
  {
   "cell_type": "code",
   "execution_count": 8,
   "metadata": {
    "id": "SrFyRngP2NME"
   },
   "outputs": [],
   "source": [
    "# 訓練データ区間の乗客数の予測\n",
    "predicted = model.predict(data)\n",
    "# 将来2年間の乗客数の予測\n",
    "future_test = data[len(data)-1]    \n",
    "future_result = []\n",
    "for i in range(length_of_sequence * 2):\n",
    "    test_data = np.reshape(future_test, (1, length_of_sequence, 1))\n",
    "    batch_predict = model.predict(test_data)\n",
    "    future_test = np.delete(future_test, 0)\n",
    "    future_test = np.append(future_test, batch_predict)\n",
    "    future_result = np.append(future_result, batch_predict)"
   ]
  },
  {
   "cell_type": "markdown",
   "metadata": {},
   "source": [
    "- 学習結果を元に、1959年〜1960年を予測する処理\n",
    "- future_test\n",
    "  - 予測用データ（初期値はdataの最後 1958年1月〜1958年12月）\n",
    "- future_result\n",
    "  - 予測結果を保存するリスト"
   ]
  },
  {
   "cell_type": "markdown",
   "metadata": {
    "id": "TRWXUNFs2NME"
   },
   "source": [
    "### 予測結果のプロット"
   ]
  },
  {
   "cell_type": "code",
   "execution_count": 9,
   "metadata": {
    "id": "PCkfcUJh2NMF"
   },
   "outputs": [
    {
     "data": {
      "image/png": "[encoded data removed]",
      "text/plain": [
       "<Figure size 432x288 with 1 Axes>"
      ]
     },
     "metadata": {
      "needs_background": "light"
     },
     "output_type": "display_data"
    }
   ],
   "source": [
    "plt.figure()\n",
    "plt.plot(range(0, len(raw_data)), raw_data, color='b', label='raw')\n",
    "plt.plot(range(12,len(predicted)+12),predicted, color='r', label='predict')  \n",
    "plt.plot(range(0+len(raw_data)-24, len(future_result)+len(raw_data)-24),\n",
    "         future_result, color='g', label='future') \n",
    "plt.legend()\n",
    "plt.show()"
   ]
  },
  {
   "cell_type": "markdown",
   "metadata": {},
   "source": [
    "- fraw_data（青）\n",
    "  - 元データ（1949〜1960）\n",
    "- predict（赤）\n",
    "  - 学習時の予測データ（1950〜1958）\n",
    "- future（緑）\n",
    "  - 学習後の予測データ（1959〜1960）"
   ]
  },
  {
   "cell_type": "markdown",
   "metadata": {
    "id": "ew_2OLqu2NMF"
   },
   "source": [
    "### 学習済みモデルの評価"
   ]
  },
  {
   "cell_type": "code",
   "execution_count": 10,
   "metadata": {
    "id": "pzGc_aVk2NMG"
   },
   "outputs": [
    {
     "name": "stdout",
     "output_type": "stream",
     "text": [
      "R2  : 0.9768973184747066\n",
      "RMSE: 0.026502145\n"
     ]
    }
   ],
   "source": [
    "# 決定係数と平均平方二乗誤差でモデルを評価\n",
    "r2 = r2_score(target, predicted)\n",
    "rmse = np.sqrt(mean_squared_error(target, predicted))\n",
    "print('R2  :', r2)\n",
    "print('RMSE:', rmse)"
   ]
  },
  {
   "cell_type": "markdown",
   "metadata": {
    "id": "wfh50Kzs2NMG"
   },
   "source": [
    "### 実測値と予測値の相関グラフ"
   ]
  },
  {
   "cell_type": "code",
   "execution_count": 11,
   "metadata": {
    "id": "u44-5ksa2NMH"
   },
   "outputs": [
    {
     "data": {
      "image/png": "[encoded data removed]",
      "text/plain": [
       "<Figure size 432x288 with 1 Axes>"
      ]
     },
     "metadata": {
      "needs_background": "light"
     },
     "output_type": "display_data"
    }
   ],
   "source": [
    "plt.figure()\n",
    "plt.scatter(target, predicted)\n",
    "plt.xlabel('measured')\n",
    "plt.ylabel('predicted')\n",
    "plt.show()"
   ]
  }
 ],
 "metadata": {
  "colab": {
   "collapsed_sections": [],
   "name": "8-1_Passengers.ipynb",
   "provenance": []
  },
  "kernelspec": {
   "display_name": "Python 3 (ipykernel)",
   "language": "python",
   "name": "python3"
  },
  "language_info": {
   "codemirror_mode": {
    "name": "ipython",
    "version": 3
   },
   "file_extension": ".py",
   "mimetype": "text/x-python",
   "name": "python",
   "nbconvert_exporter": "python",
   "pygments_lexer": "ipython3",
   "version": "3.9.12"
  }
 },
 "nbformat": 4,
 "nbformat_minor": 4
}
