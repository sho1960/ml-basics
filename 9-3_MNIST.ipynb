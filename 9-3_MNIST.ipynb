{
 "cells": [
  {
   "cell_type": "markdown",
   "metadata": {
    "id": "ZnW_D3dkQ4y5"
   },
   "source": [
    "## 9-3 手書き数字の識別（MLP）"
   ]
  },
  {
   "cell_type": "markdown",
   "metadata": {
    "id": "jdeF8pjqQ4y_"
   },
   "source": [
    "### ライブラリーのインポート"
   ]
  },
  {
   "cell_type": "code",
   "execution_count": null,
   "metadata": {
    "id": "uJvZZJHMQ4zB"
   },
   "outputs": [],
   "source": [
    "import numpy as np\n",
    "from PIL import Image\n",
    "from tensorflow.keras.datasets import mnist\n",
    "from tensorflow.keras.utils import to_categorical\n",
    "from tensorflow.keras.models import Sequential\n",
    "from tensorflow.keras.layers import Flatten, Dense, Dropout\n",
    "from sklearn.metrics import confusion_matrix, accuracy_score\n",
    "import matplotlib.pyplot as plt\n",
    "%matplotlib inline"
   ]
  },
  {
   "cell_type": "markdown",
   "metadata": {},
   "source": [
    "- PIL.Image\n",
    "  - 画像処理のライブラリ\n",
    "- tensorflow.keras.datasets.mnist\n",
    "  - MNISTのデータセット\n",
    "- tensorflow.keras.utils.to_categorical\n",
    "  - 訓練用ラベルデータの整数値を2値クラスの行列に変換（One-hotベクトル化）"
   ]
  },
  {
   "cell_type": "markdown",
   "metadata": {
    "id": "UCCeZ8XcQ4zD"
   },
   "source": [
    "### データの読み込み"
   ]
  },
  {
   "cell_type": "code",
   "execution_count": null,
   "metadata": {
    "id": "rX-N1ZtFQ4zE"
   },
   "outputs": [],
   "source": [
    "# データ読み込み\n",
    "(x_train, y_train), (x_test, y_test) = mnist.load_data()\n",
    "\n",
    "# データの形を確認\n",
    "print('x_train: ', x_train.shape)\n",
    "print('y_train: ', y_train.shape)\n",
    "print('x_test : ', x_test.shape)\n",
    "print('y_test : ', y_test.shape)"
   ]
  },
  {
   "cell_type": "markdown",
   "metadata": {},
   "source": [
    "- (x_train, y_train), (x_test, y_test) = mnist.load_data()\n",
    "  - MNISTデータを読み込んで、訓練データとテストデータへ格納する。\n",
    "  - 初回実行時にインターネット経由でデータがダウンロードされる。\n",
    "- *.shape：データの形の確認結果\n",
    "  - x_train: (60000, 28, 28) \n",
    "  - y_train: (60000,)\n",
    "  - x_test : (10000, 28, 28)\n",
    "  - y_test : (10000,)"
   ]
  },
  {
   "cell_type": "markdown",
   "metadata": {
    "id": "09ApQOpfQ4zG"
   },
   "source": [
    "### 先頭の画像20枚の表示"
   ]
  },
  {
   "cell_type": "code",
   "execution_count": null,
   "metadata": {
    "id": "3JDI0t5BQ4zG"
   },
   "outputs": [],
   "source": [
    "fig = plt.figure(figsize=(10, 2))\n",
    "fig.subplots_adjust(left=0, right=1, bottom=0, top=1.0,\n",
    "                    hspace=0.05, wspace=0.05)\n",
    "for i in range(20):\n",
    "    ax = fig.add_subplot(2, 10, i+1, xticks=[], yticks=[])\n",
    "    ax.imshow(x_train[i].reshape((28, 28)), cmap='gray_r')\n",
    "\n",
    "plt.show()"
   ]
  },
  {
   "cell_type": "markdown",
   "metadata": {},
   "source": [
    "- fig = plt.figure(figsize=(10, 2))\n",
    "  - 10×2の描画領域を定義する。\n",
    "- ax = fig.add_subplot(2, 10, i+1, xticks=[], yticks=[])\n",
    "  - サブプロットを追加する（xticks, yticks: 目盛り）\n",
    "- ax.imshow(x_train[i].reshape((28, 28)), cmap='gray_r')\n",
    "  - 画像を描画する。cmap='gray_r' はグレースケールで白黒反転の意味。"
   ]
  },
  {
   "cell_type": "markdown",
   "metadata": {
    "id": "9Y4Wg9VcQ4zH"
   },
   "source": [
    "### 訓練／テストデータの作成"
   ]
  },
  {
   "cell_type": "code",
   "execution_count": null,
   "metadata": {
    "id": "74Wp4RTUQ4zI"
   },
   "outputs": [],
   "source": [
    "x_trainc = x_train / 255.0\n",
    "x_testc = x_test / 255.0\n",
    "y_trainc = to_categorical(y_train, 10)\n",
    "y_testc = to_categorical(y_test, 10)\n",
    "\n",
    "print('x_train: ', x_trainc.shape)\n",
    "print(x_trainc.shape[0], 'train samples')\n",
    "print(x_testc.shape[0], 'test samples')"
   ]
  },
  {
   "cell_type": "markdown",
   "metadata": {},
   "source": [
    "- x_trainc, x_testc\n",
    "  - 元データの値0〜255を0〜1に変換（Min-Max正規化）したもの。\n",
    "- y_trainc, y_testc\n",
    "  - 正解ラベルを2値化（One-hotベクトル化）したもの。"
   ]
  },
  {
   "cell_type": "markdown",
   "metadata": {
    "id": "kWM-HcbDQ4zJ"
   },
   "source": [
    "### ニューラルネットワークモデルの構築"
   ]
  },
  {
   "cell_type": "code",
   "execution_count": null,
   "metadata": {
    "id": "_Do1j9cHQ4zK"
   },
   "outputs": [],
   "source": [
    "model = Sequential()\n",
    "# 入力層\n",
    "model.add(Flatten(input_shape=(28, 28)))\n",
    "# 隠れ層\n",
    "model.add(Dense(128, activation='relu'))\n",
    "# ドロップアウト\n",
    "model.add(Dropout(0.2))\n",
    "# 出力層\n",
    "model.add(Dense(10, activation='softmax'))"
   ]
  },
  {
   "cell_type": "markdown",
   "metadata": {},
   "source": [
    "- Sequential APIでモデルを定義する。"
   ]
  },
  {
   "cell_type": "markdown",
   "metadata": {
    "id": "2E0ul-YiQ4zK"
   },
   "source": [
    "### 機械学習の実行"
   ]
  },
  {
   "cell_type": "code",
   "execution_count": null,
   "metadata": {
    "id": "TWJGgAg8Q4zK"
   },
   "outputs": [],
   "source": [
    "%%time\n",
    "model.compile(loss='categorical_crossentropy',\n",
    "              optimizer='adam',\n",
    "              metrics=['accuracy'])\n",
    "history = model.fit(x_trainc, y_trainc, \n",
    "                    batch_size=64,\n",
    "                    epochs=10,\n",
    "                    validation_split=0.2)"
   ]
  },
  {
   "cell_type": "markdown",
   "metadata": {},
   "source": [
    "- %%time\n",
    "  - 実行時間を測定する。\n",
    "- model.complie：学習のためのモデルの設定\n",
    "  - 損失関数: categorical_crossentropy （交差エントロピー）\n",
    "  - 最適化アルゴリズム: Adam\n",
    "  - 評価関数: accuracy\n",
    "- model.fit：機械学習の実行\n",
    "  - バッチサイズ: 64\n",
    "  - エポック数: 10\n",
    "  - 検証用データの割合: 0.2 （80%のデータで学習）"
   ]
  },
  {
   "cell_type": "markdown",
   "metadata": {
    "id": "k3b8ly8uQ4zL"
   },
   "source": [
    "### モデルの評価"
   ]
  },
  {
   "cell_type": "code",
   "execution_count": null,
   "metadata": {
    "id": "dhB0iYsOQ4zL"
   },
   "outputs": [],
   "source": [
    "# 分類予測の取得\n",
    "pred = np.argmax(model.predict(x_testc), axis=-1)\n",
    "\n",
    "# 正解率と混同行列の出力\n",
    "print('Test Accuracy:\\n', accuracy_score(y_test, pred)) \n",
    "print('Confusion Matrix:\\n', confusion_matrix(y_test, pred))"
   ]
  },
  {
   "cell_type": "markdown",
   "metadata": {},
   "source": [
    "- 評価用データを使って、学習済みモデルの分類性能を評価する。"
   ]
  }
 ],
 "metadata": {
  "colab": {
   "collapsed_sections": [],
   "name": "7-3_MNIST.ipynb",
   "provenance": []
  },
  "kernelspec": {
   "display_name": "Python 3",
   "language": "python",
   "name": "python3"
  },
  "language_info": {
   "codemirror_mode": {
    "name": "ipython",
    "version": 3
   },
   "file_extension": ".py",
   "mimetype": "text/x-python",
   "name": "python",
   "nbconvert_exporter": "python",
   "pygments_lexer": "ipython3",
   "version": "3.7.6"
  }
 },
 "nbformat": 4,
 "nbformat_minor": 4
}
