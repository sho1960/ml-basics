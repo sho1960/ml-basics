{
 "cells": [
  {
   "cell_type": "markdown",
   "metadata": {},
   "source": [
    "## 6-4 クラスタリング（k-means）"
   ]
  },
  {
   "cell_type": "markdown",
   "metadata": {},
   "source": [
    "### ライブラリのインポート"
   ]
  },
  {
   "cell_type": "code",
   "execution_count": null,
   "metadata": {},
   "outputs": [],
   "source": [
    "import numpy as np\n",
    "from sklearn.cluster import KMeans\n",
    "import matplotlib.pyplot as plt\n",
    "%matplotlib inline"
   ]
  },
  {
   "cell_type": "markdown",
   "metadata": {},
   "source": [
    "- sklearn.cluster.KMeans\n",
    "  - KMeans：K平均法（k-means）クラスタリングのライブラリ"
   ]
  },
  {
   "cell_type": "markdown",
   "metadata": {},
   "source": [
    "### データの生成"
   ]
  },
  {
   "cell_type": "code",
   "execution_count": null,
   "metadata": {},
   "outputs": [],
   "source": [
    "data_x = np.arange(0, 1, 1 / 100).reshape(-1, 1) \n",
    "data_y = np.random.rand(len(data_x), 1) "
   ]
  },
  {
   "cell_type": "markdown",
   "metadata": {},
   "source": [
    "- **data_x**：X軸のデータ（配列）\n",
    "  - np.arange(0, 1, 1 / 100)).reshape(-1, 1) \n",
    "  - 0から1まで1/100間隔でデータ100個を生成し、データを縦に並べる（列ベクトルへ変換）。\n",
    "- **data_y**：Y軸のデータ（配列）\n",
    "  - np.random.rand(len(data_x), 1)\n",
    "  - data_xの個数（100個）の乱数を列ベクトルの形式で生成する。"
   ]
  },
  {
   "cell_type": "markdown",
   "metadata": {},
   "source": [
    "### データの可視化"
   ]
  },
  {
   "cell_type": "code",
   "execution_count": null,
   "metadata": {},
   "outputs": [],
   "source": [
    "plt.figure(figsize=(6, 5))\n",
    "plt.scatter(data_x, data_y)\n",
    "plt.show()"
   ]
  },
  {
   "cell_type": "markdown",
   "metadata": {},
   "source": [
    "- figsize(6, 5)で散布図を描画する。"
   ]
  },
  {
   "cell_type": "markdown",
   "metadata": {},
   "source": [
    "### クラスタリングの実行"
   ]
  },
  {
   "cell_type": "code",
   "execution_count": null,
   "metadata": {},
   "outputs": [],
   "source": [
    "# x, y データを結合\n",
    "data = np.c_[data_x, data_y]\n",
    "# ３つのクラスタに分類\n",
    "model = KMeans(n_clusters=3)\n",
    "model.fit(data)\n",
    "# データの分類結果（0 ～ (n_clusters - 1) の番号が付けられている）\n",
    "labels = model.labels_\n",
    "labels"
   ]
  },
  {
   "cell_type": "markdown",
   "metadata": {},
   "source": [
    "- data = np.c_[data_x, data_y]\n",
    "  - data_xとdata_yを結合する（100行×2列の配列となる）。\n",
    "- model = KMeans(n_clusters=3)\n",
    "  - クラスター数を3とするk-meansのインスタンスを生成する。\n",
    "- model.fit(data)\n",
    "  - 結合したデータ（data）を使ってクラスタリングを実行する。\n",
    "- label = model.labels_\n",
    "  - 実行結果（ラベル＝クラスターの番号：0, 1, 2）を取得する。"
   ]
  },
  {
   "cell_type": "markdown",
   "metadata": {},
   "source": [
    "### 実行結果の確認"
   ]
  },
  {
   "cell_type": "code",
   "execution_count": null,
   "metadata": {},
   "outputs": [],
   "source": [
    "plt.figure(figsize=(6, 5))\n",
    "# クラスタ毎にマークを変えてプロット\n",
    "plt.scatter(data_x[labels == 0], data_y[labels == 0], \n",
    "            marker='v', label='cluster 0')\n",
    "plt.scatter(data_x[labels == 1], data_y[labels == 1],\n",
    "            marker='x', label='cluster 1')\n",
    "plt.scatter(data_x[labels == 2], data_y[labels == 2],\n",
    "            marker='o', label='cluster 2')\n",
    "# 凡例の表示位置を指定して表示\n",
    "plt.legend(bbox_to_anchor=(1, 1), loc='upper left')\n",
    "plt.show()"
   ]
  },
  {
   "cell_type": "markdown",
   "metadata": {},
   "source": [
    "- data_x[labels == n], data_y[labels == n]\n",
    "  - data_xとdata_yのクラスタ番号（n）の配列を取得する。\n",
    "- ランダムなデータのため、実行するたびに結果は変化する"
   ]
  }
 ],
 "metadata": {
  "kernelspec": {
   "display_name": "Python 3",
   "language": "python",
   "name": "python3"
  },
  "language_info": {
   "codemirror_mode": {
    "name": "ipython",
    "version": 3
   },
   "file_extension": ".py",
   "mimetype": "text/x-python",
   "name": "python",
   "nbconvert_exporter": "python",
   "pygments_lexer": "ipython3",
   "version": "3.7.6"
  }
 },
 "nbformat": 4,
 "nbformat_minor": 4
}
