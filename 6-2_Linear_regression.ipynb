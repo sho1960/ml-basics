{
 "cells": [
  {
   "cell_type": "markdown",
   "metadata": {},
   "source": [
    "## 6-2 線形回帰（Linear Regression） "
   ]
  },
  {
   "cell_type": "markdown",
   "metadata": {},
   "source": [
    "### ライブラリーのインポート"
   ]
  },
  {
   "cell_type": "code",
   "execution_count": null,
   "metadata": {},
   "outputs": [],
   "source": [
    "import numpy as np\n",
    "import pandas as pd\n",
    "import math\n",
    "import matplotlib.pyplot as plt\n",
    "from sklearn.linear_model import LinearRegression\n",
    "from sklearn.model_selection import train_test_split\n",
    "from sklearn.metrics import r2_score, mean_squared_error\n",
    "%matplotlib inline"
   ]
  },
  {
   "cell_type": "markdown",
   "metadata": {},
   "source": [
    "- math：数学的な計算をするためのライブラリ\n",
    "- sklearn.linear_model.LinearRegression\n",
    "  - Sckit Learnに実装される線形回帰モデルでの機械学習の関数\n",
    "- sklearn.model_selection.train_test_split\n",
    "  - 訓練データとテストデータを分割する関数\n",
    "- sklearn.metrics\n",
    "  - 評価指標を計算する関数群\n",
    "  - r2_score：決定係数、MSE：平均二乗誤差（Mean Square Error）"
   ]
  },
  {
   "cell_type": "markdown",
   "metadata": {},
   "source": [
    "### 機械学習データの生成"
   ]
  },
  {
   "cell_type": "code",
   "execution_count": null,
   "metadata": {},
   "outputs": [],
   "source": [
    "np.random.seed(50)\n",
    "data_x = np.arange(0, 1, 1/float(50)).reshape(-1, 1)  \n",
    "data_ty = data_x ** 2\n",
    "data_y = data_ty.reshape(-1, 1) + np.random.rand(len(data_ty), 1) * 0.5\n",
    "# データの可視化 \n",
    "plt.scatter(data_x, data_y, marker='o')\n",
    "plt.show()"
   ]
  },
  {
   "cell_type": "markdown",
   "metadata": {},
   "source": [
    "- np.random.seed(50)\n",
    "  - データの再現性を保つため、発生する乱数を固定する。\n",
    "- data_x に0〜1の50個の値を準備し、基準とする関数（y = x2 ）で計算した data_ty に乱数を加えて、data_y を生成する。\n",
    "- reshape(-1, 1)\n",
    "  - 列数を1へ変換する（行数は元のデータから決定）。"
   ]
  },
  {
   "cell_type": "markdown",
   "metadata": {},
   "source": [
    "### 訓練／テストデータの分割"
   ]
  },
  {
   "cell_type": "code",
   "execution_count": null,
   "metadata": {},
   "outputs": [],
   "source": [
    "train_x, test_xd, train_y, test_yd = train_test_split(\n",
    "    data_x, data_y, test_size=0.2, random_state=2)\n",
    "test_d = np.hstack([test_xd, test_yd])\n",
    "test_x, test_y = np.split(np.sort(test_d, axis=0), 2, axis=1)"
   ]
  },
  {
   "cell_type": "markdown",
   "metadata": {},
   "source": [
    "- train_test_split(data_x, data_y, test_size=0.2, random_state=2)\n",
    "  - 訓練データ80%、テストデータ20%に分割する。\n",
    "- test_x, test_y = np.split(np.sort(test_d, axis=0), 2, axis=1)\n",
    "  - ランダムに分割されるため、後のグラフ描画用にソートする。"
   ]
  },
  {
   "cell_type": "markdown",
   "metadata": {},
   "source": [
    "### 機械学習モデルの定義"
   ]
  },
  {
   "cell_type": "code",
   "execution_count": null,
   "metadata": {},
   "outputs": [],
   "source": [
    "# 1次式での回帰モデル作成\n",
    "TRAIN_X1 = train_x\n",
    "TEST_X1  = test_x\n",
    "\n",
    "# 2次式での回帰モデル作成\n",
    "TRAIN_X2 = np.c_[train_x, train_x**2]\n",
    "TEST_X2  = np.c_[test_x, test_x**2]\n",
    "\n",
    "# 4次式での回帰モデル作成\n",
    "TRAIN_X4 = np.c_[train_x, train_x**2, train_x**3 , train_x**4]\n",
    "TEST_X4  = np.c_[test_x, test_x**2, test_x**3, test_x**4]"
   ]
  },
  {
   "cell_type": "markdown",
   "metadata": {},
   "source": [
    "- np.c_[a, b, ･･･]\n",
    "  - 配列aと配列b ･･･ を結合する。"
   ]
  },
  {
   "cell_type": "markdown",
   "metadata": {},
   "source": [
    "### 機械学習の実行"
   ]
  },
  {
   "cell_type": "code",
   "execution_count": null,
   "metadata": {},
   "outputs": [],
   "source": [
    "# 1次式モデルで学習実行\n",
    "model1 = LinearRegression()\n",
    "run1 = model1.fit(TRAIN_X1, train_y)\n",
    "\n",
    "# 2次式モデルで学習実行\n",
    "model2 = LinearRegression()\n",
    "run2 = model2.fit(TRAIN_X2, train_y)\n",
    "\n",
    "# 4次式モデルで学習実行\n",
    "model4 = LinearRegression()\n",
    "run3 = model4.fit(TRAIN_X4, train_y)"
   ]
  },
  {
   "cell_type": "markdown",
   "metadata": {},
   "source": [
    "- model = LinearRegression()\n",
    "  - 線形回帰モデルのインスタンス（model）を作成する。 \n",
    "- run = model.fit(TRAIN_X, train_y)\n",
    "  - 訓練データ（TRAIN_X, train_y）を使用して、インスタンス（model）の機械学習を実行する。"
   ]
  },
  {
   "cell_type": "markdown",
   "metadata": {},
   "source": [
    "### テストデータによる予測結果と誤差の計算"
   ]
  },
  {
   "cell_type": "code",
   "execution_count": null,
   "metadata": {},
   "outputs": [],
   "source": [
    "# テストデータを学習済みモデルに与えて予測結果を取得\n",
    "pred_y1 = model1.predict(TEST_X1)\n",
    "pred_y2 = model2.predict(TEST_X2)\n",
    "pred_y4 = model4.predict(TEST_X4)\n",
    "\n",
    "# テスト結果と予測結果の誤差を計算\n",
    "col = ['test', 'pred']\n",
    "df1 = pd.DataFrame(np.concatenate([test_y, pred_y1], 1), columns=col)\n",
    "df1['diff'] = df1['pred'] - df1['test']\n",
    "df2 = pd.DataFrame(np.concatenate([test_y, pred_y2], 1), columns=col)\n",
    "df2['diff'] = df2['pred'] - df2['test']\n",
    "df4 = pd.DataFrame(np.concatenate([test_y, pred_y4], 1), columns=col)\n",
    "df4['diff'] = df4['pred'] - df4['test']"
   ]
  },
  {
   "cell_type": "markdown",
   "metadata": {},
   "source": [
    "- pred_y = model.predict(TEST_X)\n",
    "  - テストデータ（TEST_X）を学習済みモデル（model）に与えて予測結果を取得して、pred_yへ代入する。\n",
    "- df = pd.DataFrame(np.concatenate([test_y, pred_y], 1), columns=･･･)\n",
    "  - テストデータ（test_y）と予測結果（pred_y）を横に結合してデータフレームへ変換する。\n",
    "- df1['diff'] = df1['pred'] - df1['test']\n",
    "  - 予測結果と正解値の差分（diff）を計算する。"
   ]
  },
  {
   "cell_type": "markdown",
   "metadata": {},
   "source": [
    "### 誤差計算結果と評価指標の出力"
   ]
  },
  {
   "cell_type": "code",
   "execution_count": null,
   "metadata": {},
   "outputs": [],
   "source": [
    "display('1次式モデルの誤差', df1)\n",
    "display('2次式モデルの誤差', df2)\n",
    "display('4次式モデルの誤差', df4)\n",
    "\n",
    "print('R2(1)   =', r2_score(test_y, pred_y1))\n",
    "print('R2(2)   =', r2_score(test_y, pred_y2))\n",
    "print('R2(4)   =', r2_score(test_y, pred_y4), '\\n')\n",
    "\n",
    "print('RMSE(1) =', math.sqrt(mean_squared_error(test_y, pred_y1)))\n",
    "print('RMSE(2) =', math.sqrt(mean_squared_error(test_y, pred_y2)))\n",
    "print('RMSE(4) =', math.sqrt(mean_squared_error(test_y, pred_y4)))"
   ]
  },
  {
   "cell_type": "markdown",
   "metadata": {},
   "source": [
    "- r2_score(test_y, pred_y)\n",
    "  - 決定係数（R2）を求める。\n",
    "- math.sqrt(mean_squared_error(test_y, pred_y))\n",
    "  - 平均平方二乗誤差（RMSE）を求める。"
   ]
  },
  {
   "cell_type": "markdown",
   "metadata": {},
   "source": [
    "### 予測結果のグラフ表示"
   ]
  },
  {
   "cell_type": "code",
   "execution_count": null,
   "metadata": {},
   "outputs": [],
   "source": [
    "# 訓練データとテストデータの散布図\n",
    "plt.scatter(train_x, train_y, marker='v',label=\"train\")\n",
    "plt.scatter(test_x, test_y, marker='x',label=\"test\")\n",
    "\n",
    "# 予測結果のグラフ\n",
    "plt.plot(test_x, pred_y1, label='model1', color='red')\n",
    "plt.plot(test_x, pred_y2, label='model2', color='orange')\n",
    "plt.plot(test_x, pred_y4, label='model4', color='green')\n",
    "\n",
    "# 描画実行\n",
    "plt.legend(bbox_to_anchor=(1.05, 1), \n",
    "           loc='upper left', borderaxespad=0)\n",
    "plt.show()"
   ]
  },
  {
   "cell_type": "markdown",
   "metadata": {},
   "source": [
    "- plt.scatter(train_x, train_y, ･･･)\n",
    "  - 訓練データ（train_x, trainy）の散布図を描画する。\n",
    "- plt.scatter(test_x, test_y, ･･･)\n",
    "  - テストデータ（test_x, test_y）の散布図を描画する。\n",
    "- plt.plot(test_x, pred_y, ･･･)\n",
    "  - テストデータと予測結果を折れ線グラフで表示する。"
   ]
  }
 ],
 "metadata": {
  "kernelspec": {
   "display_name": "Python 3",
   "language": "python",
   "name": "python3"
  },
  "language_info": {
   "codemirror_mode": {
    "name": "ipython",
    "version": 3
   },
   "file_extension": ".py",
   "mimetype": "text/x-python",
   "name": "python",
   "nbconvert_exporter": "python",
   "pygments_lexer": "ipython3",
   "version": "3.7.6"
  }
 },
 "nbformat": 4,
 "nbformat_minor": 4
}
