{
 "cells": [
  {
   "cell_type": "markdown",
   "metadata": {
    "id": "5TBRSikmGIh2"
   },
   "source": [
    "## 10-3 振動データの異常検知"
   ]
  },
  {
   "cell_type": "markdown",
   "metadata": {
    "id": "KO6ABYFUGIh3"
   },
   "source": [
    "### ライブラリのインポート"
   ]
  },
  {
   "cell_type": "code",
   "execution_count": null,
   "metadata": {
    "id": "O4S5CjfAGIh4"
   },
   "outputs": [],
   "source": [
    "import pandas as pd \n",
    "import numpy as np\n",
    "import random\n",
    "from tensorflow.keras.models import Sequential\n",
    "from tensorflow.keras.layers import Input, Dense\n",
    "from sklearn.preprocessing import MinMaxScaler\n",
    "import matplotlib.pyplot as plt\n",
    "%matplotlib inline\n",
    "np.random.seed(seed=0)"
   ]
  },
  {
   "cell_type": "markdown",
   "metadata": {},
   "source": [
    "- sklearn.preprocessing.MinMaxScaler\n",
    "  - Min-Max正規化の関数"
   ]
  },
  {
   "cell_type": "markdown",
   "metadata": {
    "id": "1NiJjJZGGIh6"
   },
   "source": [
    "### 独自関数の定義"
   ]
  },
  {
   "cell_type": "code",
   "execution_count": null,
   "metadata": {
    "id": "JKEzuP-eGIh6"
   },
   "outputs": [],
   "source": [
    "def CreateSubSequences(input_data, window_size, slide = 1):\n",
    "    len_sequences = len(input_data)\n",
    "    data = []\n",
    "    from_idx, to_idx = 0, window_size\n",
    "    while(to_idx < len_sequences):\n",
    "        data.append(input_data[from_idx : to_idx])\n",
    "        from_idx = from_idx + slide\n",
    "        to_idx = to_idx + slide\n",
    "    return(data)"
   ]
  },
  {
   "cell_type": "markdown",
   "metadata": {},
   "source": [
    "- 入力されたデータを、窓幅に合わせて複数の部分列に分割し、Listとして返す関数\n",
    "  - 引数1: Series型の時系列データ\n",
    "  - 引数2: 窓幅\n",
    "  - 引数3: 窓をスライドさせる幅（1~windowsize、デフォルト1）"
   ]
  },
  {
   "cell_type": "markdown",
   "metadata": {
    "id": "bvAlMiNHGIh7"
   },
   "source": [
    "### データの読み込み"
   ]
  },
  {
   "cell_type": "code",
   "execution_count": null,
   "metadata": {
    "id": "bcAJvltWGIh7"
   },
   "outputs": [],
   "source": [
    "input_df =  pd.read_csv('data/qtdbsel102.csv', header=None)\n",
    "input_df.head()"
   ]
  },
  {
   "cell_type": "markdown",
   "metadata": {},
   "source": [
    "- pd.read_csv('data/qtdbsel102.csv', header=None)\n",
    "  - CSVファイルのデータをPandasデータフレームへ読み込む。\n",
    "  - header=None：ヘッダー行がない（1行目からデータである）ことを指定する。"
   ]
  },
  {
   "cell_type": "markdown",
   "metadata": {
    "id": "KMyaGYdrGIh8"
   },
   "source": [
    "### 分析対象データの描画"
   ]
  },
  {
   "cell_type": "code",
   "execution_count": null,
   "metadata": {
    "id": "HPUbdie0GIh8"
   },
   "outputs": [],
   "source": [
    "ecg_data = input_df.loc[:, 2]\n",
    "print('時系列データ長＝' + str(len(ecg_data)) )\n",
    "plt.figure(figsize=(15, 5))\n",
    "plt.plot(ecg_data)\n",
    "plt.show()"
   ]
  },
  {
   "cell_type": "markdown",
   "metadata": {},
   "source": [
    "- ecg_data = input_df.loc[:, 2]\n",
    "  - 3列目のデータを取得する。"
   ]
  },
  {
   "cell_type": "markdown",
   "metadata": {
    "id": "hyAQFPOvGIh9"
   },
   "source": [
    "###  0〜5000の範囲を描画"
   ]
  },
  {
   "cell_type": "code",
   "execution_count": null,
   "metadata": {
    "id": "enkknrp_GIh-"
   },
   "outputs": [],
   "source": [
    "plt.figure(figsize=(15, 5))\n",
    "plt.plot(ecg_data[0:5000])\n",
    "plt.fill_between(range(4100, 4500), max(ecg_data), min(ecg_data), \n",
    "                 facecolor='orange', alpha=0.3)\n",
    "plt.show()"
   ]
  },
  {
   "cell_type": "markdown",
   "metadata": {},
   "source": [
    "- plt.fill_between( ･･･ )：指定範囲を塗りつぶす。\n",
    "  - range(4100, 4500)：X軸の範囲を指定\n",
    "  - max(ecg_data), min(ecg_data)：データの最大値と最小値の間を塗りつぶす。\n",
    "  - facecolor：塗りつぶしの色\n",
    "  - alpha：透明度の指定"
   ]
  },
  {
   "cell_type": "markdown",
   "metadata": {
    "id": "ATd0X0p3GIh-"
   },
   "source": [
    "### 訓練/テストデータの取得とハイパーパラメータの設定"
   ]
  },
  {
   "cell_type": "code",
   "execution_count": null,
   "metadata": {
    "id": "xTBfg235GIh_"
   },
   "outputs": [],
   "source": [
    "# 訓練/テストデータ\n",
    "train_data = ecg_data[5000:45000]\n",
    "test_data  = ecg_data[0:5000]\n",
    "# ハイパーパラメータ\n",
    "window_size = 400 # 窓幅（入力の次元）\n",
    "hidden_unit = 64  # 中間層のユニット数\n",
    "batch_size = 64   # バッチサイズ\n",
    "epoch_n = 10      # エポック数"
   ]
  },
  {
   "cell_type": "markdown",
   "metadata": {},
   "source": [
    "- train_data\n",
    "  - 訓練データ。5000以降を正常データとして取得する。\n",
    "- test_data\n",
    "  - テストデータ。正常と異常が含まれている0〜5000のデータを使用する。"
   ]
  },
  {
   "cell_type": "markdown",
   "metadata": {
    "id": "tu257jSRGIiA"
   },
   "source": [
    "### データの準備"
   ]
  },
  {
   "cell_type": "code",
   "execution_count": null,
   "metadata": {
    "id": "Kkr5sEOSGIiA"
   },
   "outputs": [],
   "source": [
    "# データ窓幅で区切って分割\n",
    "train_data_list = CreateSubSequences(train_data, window_size)\n",
    "test_data_list = CreateSubSequences(test_data, window_size)\n",
    "# 正規化\n",
    "scaler = MinMaxScaler()\n",
    "train_data_list = scaler.fit_transform(train_data_list)\n",
    "test_data_list  = scaler.transform(test_data_list)"
   ]
  },
  {
   "cell_type": "markdown",
   "metadata": {},
   "source": [
    "- CreateSubSequences（独自関数）を使用して訓練データとテストデータを窓幅で区切って分割する。\n",
    "- 分割後のデータを正規化する（最大値を1、最小値を0にする）。"
   ]
  },
  {
   "cell_type": "markdown",
   "metadata": {
    "id": "lqZiqp9oGIiA"
   },
   "source": [
    "### 学習モデルの構築"
   ]
  },
  {
   "cell_type": "code",
   "execution_count": null,
   "metadata": {
    "id": "2geRP0hRGIiA"
   },
   "outputs": [],
   "source": [
    "model = Sequential()\n",
    "model.add(Dense(hidden_unit, activation='relu', input_shape=(window_size,)))\n",
    "model.add(Dense(window_size, activation='sigmoid'))"
   ]
  },
  {
   "cell_type": "markdown",
   "metadata": {},
   "source": [
    "- Dense(hidden_unit, activation='relu', input_shape=(window_size,))\n",
    "  - 入力層と中間層の定義\n",
    "  - 入力数：window_size、ニューロン数：hidden_unit、活性化関数：relu\n",
    "- Dense(window_size, activation='sigmoid')\n",
    "  - 出力層の定義\n",
    "  - 出力数：window_size、活性化関数：sigmoid "
   ]
  },
  {
   "cell_type": "markdown",
   "metadata": {
    "id": "EFn8oKdNGIiB"
   },
   "source": [
    "### 学習の実行"
   ]
  },
  {
   "cell_type": "code",
   "execution_count": null,
   "metadata": {
    "id": "2AfCM21jGIiB"
   },
   "outputs": [],
   "source": [
    "model.compile(loss='mean_squared_error', optimizer ='adam')\n",
    "history = model.fit(train_data_list,train_data_list,\n",
    "                    epochs=epoch_n,batch_size=batch_size, shuffle=True)"
   ]
  },
  {
   "cell_type": "markdown",
   "metadata": {},
   "source": [
    "- model.compile( ･･･ )\n",
    "  - 損失関数：MSE（平均二乗誤差）、学習アルゴリズム：Adam\n",
    "- model.fit( ･･･ )\n",
    "  - shuffle=True：学習の偏りを減らすため、訓練データを各エポック前にシャッフルする。"
   ]
  },
  {
   "cell_type": "markdown",
   "metadata": {
    "id": "T1pHkuk5GIiB"
   },
   "source": [
    "### 損失関数出力のプロット"
   ]
  },
  {
   "cell_type": "code",
   "execution_count": null,
   "metadata": {
    "id": "qVeefe0AGIiC"
   },
   "outputs": [],
   "source": [
    "pd.DataFrame(history.history['loss'], columns=['loss']).plot()\n",
    "plt.show()"
   ]
  },
  {
   "cell_type": "markdown",
   "metadata": {},
   "source": [
    "- 損失関数の変化を見ると学習の収束度合いが判断できる。"
   ]
  },
  {
   "cell_type": "markdown",
   "metadata": {
    "id": "WuT5X5VhGIiD"
   },
   "source": [
    "### 学習済みモデルの評価"
   ]
  },
  {
   "cell_type": "code",
   "execution_count": null,
   "metadata": {
    "id": "ge1E-GGcGIiD"
   },
   "outputs": [],
   "source": [
    "decoded = model.predict(test_data_list)\n",
    "decoded_df = pd.DataFrame(decoded)\n",
    "# 異常度スコアの計算（入力されたテストデータとモデルで復元したデータとの差分）\n",
    "anomaly_score = np.sqrt( np.sum((decoded - test_data_list)**2, axis=1))"
   ]
  },
  {
   "cell_type": "markdown",
   "metadata": {},
   "source": [
    "- テストデータと復元結果で差分が生じる。\n",
    "  - 訓練データに含まれていない波形が入力されると、復元がうまくいかず差分が大きくなる。\n",
    "- 差分を「Anomaly Score（異常度スコア）」として異常を検知する。\n",
    "  - 異常度スコアは相対的な値である。\n",
    "  - 絶対値で閾値を設けるのでなく他の箇所との比較で判断する。"
   ]
  },
  {
   "cell_type": "markdown",
   "metadata": {
    "id": "NtXFF7dTGIiD"
   },
   "source": [
    "### 異常度スコアの描画"
   ]
  },
  {
   "cell_type": "code",
   "execution_count": null,
   "metadata": {
    "id": "_XVr6VSnGIiD"
   },
   "outputs": [],
   "source": [
    "plt.figure(figsize=(15,5))\n",
    "plt.subplot(2,1,1)\n",
    "plt.title('Anomaly Score')\n",
    "plt.plot(anomaly_score)\n",
    "plt.subplot(2,1,2)\n",
    "plt.title('Test Data')\n",
    "plt.plot(test_data)\n",
    "plt.show()"
   ]
  },
  {
   "cell_type": "markdown",
   "metadata": {
    "id": "q3Zk7YjpGIiD"
   },
   "source": [
    "### 最も異常度スコアが低い波形のピックアップ"
   ]
  },
  {
   "cell_type": "code",
   "execution_count": null,
   "metadata": {
    "id": "7Hv5nZoNGIiE"
   },
   "outputs": [],
   "source": [
    "plt.figure(figsize=(10,5))\n",
    "anomaly_idx = np.where(anomaly_score == min(anomaly_score))\n",
    "plt.title('Minimum anomaly score window is ' + str(int(anomaly_idx[0])))\n",
    "plt.plot(test_data_list[anomaly_idx].T , label='Test')\n",
    "plt.plot(decoded[anomaly_idx].T , label='Predict')\n",
    "plt.legend()\n",
    "plt.show()"
   ]
  },
  {
   "cell_type": "markdown",
   "metadata": {
    "id": "U-zj8CeXGIiE"
   },
   "source": [
    "### 最も異常度スコアが高い波形のピックアップ"
   ]
  },
  {
   "cell_type": "code",
   "execution_count": null,
   "metadata": {
    "id": "aQ82k5pSGIiE"
   },
   "outputs": [],
   "source": [
    "plt.figure(figsize=(10,5))\n",
    "anomaly_idx = np.where(anomaly_score == max(anomaly_score))\n",
    "plt.title('Most anomaly window is ' + str(int(anomaly_idx[0])))\n",
    "plt.plot(test_data_list[anomaly_idx].T , label='Test')\n",
    "plt.plot(decoded[anomaly_idx].T , label='Predict')\n",
    "plt.legend()\n",
    "plt.show()"
   ]
  }
 ],
 "metadata": {
  "colab": {
   "collapsed_sections": [],
   "name": "8-2_ECG_anomaly.ipynb",
   "provenance": []
  },
  "kernelspec": {
   "display_name": "Python 3",
   "language": "python",
   "name": "python3"
  },
  "language_info": {
   "codemirror_mode": {
    "name": "ipython",
    "version": 3
   },
   "file_extension": ".py",
   "mimetype": "text/x-python",
   "name": "python",
   "nbconvert_exporter": "python",
   "pygments_lexer": "ipython3",
   "version": "3.7.6"
  }
 },
 "nbformat": 4,
 "nbformat_minor": 4
}
