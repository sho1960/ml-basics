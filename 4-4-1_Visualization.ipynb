{
 "cells": [
  {
   "cell_type": "markdown",
   "metadata": {},
   "source": [
    "## 4-4-1 グラフの作成"
   ]
  },
  {
   "cell_type": "markdown",
   "metadata": {},
   "source": [
    "### ライブラリーのインポート"
   ]
  },
  {
   "cell_type": "code",
   "execution_count": null,
   "metadata": {},
   "outputs": [],
   "source": [
    "import pandas as pd\n",
    "import matplotlib.pyplot as plt\n",
    "%matplotlib inline"
   ]
  },
  {
   "cell_type": "markdown",
   "metadata": {},
   "source": [
    "- pandas\n",
    "  - データ分析を効率的に行うためのライブラリ\n",
    "  - https://pandas.pydata.org/docs/\n",
    "- matplotlib\n",
    "  - グラフ描画のためのライブラリ\n",
    "  - https://matplotlib.org/stable/contents.html"
   ]
  },
  {
   "cell_type": "markdown",
   "metadata": {},
   "source": [
    "### データの読み込み"
   ]
  },
  {
   "cell_type": "code",
   "execution_count": null,
   "metadata": {},
   "outputs": [],
   "source": [
    "df = pd.read_csv('data/NOx_data.csv', parse_dates=['date'], index_col='date')\n",
    "df.head(3)"
   ]
  },
  {
   "cell_type": "markdown",
   "metadata": {},
   "source": [
    "- pd.read_csv(ファイル名, ･･･ )\n",
    "  - CSVファイルの読み込み\n",
    "  - 読み込み時に「date」列を日付型およびインデックスに設定する"
   ]
  },
  {
   "cell_type": "markdown",
   "metadata": {},
   "source": [
    "### 月単位で集計"
   ]
  },
  {
   "cell_type": "code",
   "execution_count": null,
   "metadata": {},
   "outputs": [],
   "source": [
    "df_m = df.copy()\n",
    "df_m.index = df_m.index.map(lambda x: x.month)\n",
    "df_m = df_m.groupby(level=0).sum()\n",
    "df_m.index.names = ['month']\n",
    "df_m.head()"
   ]
  },
  {
   "cell_type": "markdown",
   "metadata": {},
   "source": [
    "- df.copy：Pandasデータフレーム（df）のコピーを作成する\n",
    "- df_m.index.map(lambda x: x.month)：インデックスの年月を月のみに置き換える\n",
    "  - map：1項目データの置き換え処理\n",
    "  - lambda 引数: 返り値 → 無名関数（名前を持たない関数）\n",
    "- df_m.groupby(level=0).sum()：月毎に集めて合計を計算する\n",
    "  - groupby(level=0)：月毎のグループ化\n",
    "  - sum()：合計の計算\n",
    "- df_m.index.names：df_mのインデックス名称"
   ]
  },
  {
   "cell_type": "markdown",
   "metadata": {},
   "source": [
    "### 縦棒グラフ（コラムチャート）"
   ]
  },
  {
   "cell_type": "code",
   "execution_count": null,
   "metadata": {},
   "outputs": [],
   "source": [
    "column_chart = df_m.plot.bar(figsize=(12,4), grid=True)"
   ]
  },
  {
   "cell_type": "markdown",
   "metadata": {},
   "source": [
    "- df_m.plot.bar()：df_mデータのコラムチャート作成\n",
    "  - figsize=()：描画領域のサイズ指定\n",
    "  - grid=True：グリッド線の表示指定"
   ]
  },
  {
   "cell_type": "markdown",
   "metadata": {},
   "source": [
    "### 円グラフ（パイチャート）"
   ]
  },
  {
   "cell_type": "code",
   "execution_count": null,
   "metadata": {},
   "outputs": [],
   "source": [
    "pie_chart = df_m.plot.pie(\n",
    "    figsize=(14, 14), subplots=True, autopct='%.1f', legend=False)"
   ]
  },
  {
   "cell_type": "markdown",
   "metadata": {},
   "source": [
    "- df_m.plot.pie()：df_mデータのパイチャート作成\n",
    "  - figsize=()：描画領域のサイズ指定\n",
    "  - subplots=True：全項目のグラフ描画指定\n",
    "  - autopct='%.1f'：データの値表示の指定（小数点以下1桁）\n",
    "  - legend=False：凡例表示のオフ"
   ]
  },
  {
   "cell_type": "markdown",
   "metadata": {},
   "source": [
    "### 帯グラフ（バンドチャート）"
   ]
  },
  {
   "cell_type": "code",
   "execution_count": null,
   "metadata": {},
   "outputs": [],
   "source": [
    "df_ms = df_m.apply(lambda x: x / x.sum(), axis=1)\n",
    "band_chart = df_ms.plot.barh(figsize=(8,6), stacked=True)"
   ]
  },
  {
   "cell_type": "markdown",
   "metadata": {},
   "source": [
    "- df_m.apply(lambda x: x / x.sum(), axis=1)\n",
    "  - df_m各月のデータを百分率に変換する\n",
    "  - apply(function, axis)：複数項目データの置き換え処理\n",
    "  - axis=1：行ごとの処理（sensor_01、02、03）\n",
    "- df_ms.plot.barh：df_msデータのバンドチャートの作成\n",
    "  - figsize=()：描画領域のサイズ指定\n",
    "  - stacked=True：積み上げグラフの指定"
   ]
  },
  {
   "cell_type": "markdown",
   "metadata": {},
   "source": [
    "### 折れ線グラフ（ラインチャート）"
   ]
  },
  {
   "cell_type": "code",
   "execution_count": null,
   "metadata": {},
   "outputs": [],
   "source": [
    "line_chart = df_m.plot.line(figsize=(8,4), grid=True)"
   ]
  },
  {
   "cell_type": "markdown",
   "metadata": {},
   "source": [
    "- df_m.plot.line()：df_mのラインチャート作成\n",
    "  - figsize=()：描画領域のサイズ指定\n",
    "  - grid=True：グリッド線の表示指定"
   ]
  },
  {
   "cell_type": "markdown",
   "metadata": {},
   "source": [
    "### 箱ひげ図（ボックスプロット）"
   ]
  },
  {
   "cell_type": "code",
   "execution_count": null,
   "metadata": {},
   "outputs": [],
   "source": [
    "box_plot = df_m.plot.box(grid=True)"
   ]
  },
  {
   "cell_type": "markdown",
   "metadata": {},
   "source": [
    "- df_m.plot.box(grid=True)：df_mの箱ひげ図作成\n",
    "  - grid=True：グリッド線の表示指定"
   ]
  },
  {
   "cell_type": "markdown",
   "metadata": {},
   "source": [
    "### 散布図（スキャタープロット）"
   ]
  },
  {
   "cell_type": "code",
   "execution_count": null,
   "metadata": {},
   "outputs": [],
   "source": [
    "scatter_plot_1 = df.plot.scatter(\n",
    "    figsize=(8,4), x='sensor_01', y='sensor_02', grid=True)\n",
    "scatter_plot_2 = df.plot.scatter(\n",
    "    figsize=(8,4), x='sensor_01', y='sensor_03', grid=True)"
   ]
  },
  {
   "cell_type": "markdown",
   "metadata": {},
   "source": [
    "- df.plot.scatter()：dfのスキャッタープロット作成\n",
    "  - figsize=()：描画領域のサイズ指定\n",
    "  - x='項目名', y='項目名'：x軸とy軸の項目名の指定\n",
    "  - grid=True：グリッド線の表示指定"
   ]
  },
  {
   "cell_type": "markdown",
   "metadata": {},
   "source": [
    "### ヒストグラム（個別）"
   ]
  },
  {
   "cell_type": "code",
   "execution_count": null,
   "metadata": {},
   "outputs": [],
   "source": [
    "hist = df.hist(figsize=(10,8))"
   ]
  },
  {
   "cell_type": "markdown",
   "metadata": {},
   "source": [
    "- df.hist()：dfの各項目それぞれのヒストグラムを作成\n",
    "  - figsize=()：描画領域のサイズ指定"
   ]
  },
  {
   "cell_type": "markdown",
   "metadata": {},
   "source": [
    "### ヒストグラム（統合）"
   ]
  },
  {
   "cell_type": "code",
   "execution_count": null,
   "metadata": {},
   "outputs": [],
   "source": [
    "hist = df.plot(kind='hist', grid=True)"
   ]
  },
  {
   "cell_type": "markdown",
   "metadata": {},
   "source": [
    "- df.plot()：df各項目のグラフを1つの領域に描画\n",
    "  - kind='hist'：グラフの種類をヒストグラムに設定\n",
    "  - grid=True：グリッド線の表示指定"
   ]
  }
 ],
 "metadata": {
  "kernelspec": {
   "display_name": "Python 3",
   "language": "python",
   "name": "python3"
  },
  "language_info": {
   "codemirror_mode": {
    "name": "ipython",
    "version": 3
   },
   "file_extension": ".py",
   "mimetype": "text/x-python",
   "name": "python",
   "nbconvert_exporter": "python",
   "pygments_lexer": "ipython3",
   "version": "3.7.6"
  }
 },
 "nbformat": 4,
 "nbformat_minor": 4
}
