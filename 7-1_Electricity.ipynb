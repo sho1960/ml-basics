{
 "cells": [
  {
   "cell_type": "markdown",
   "metadata": {},
   "source": [
    "## 7-1 気象データによる電力消費量予測"
   ]
  },
  {
   "cell_type": "markdown",
   "metadata": {},
   "source": [
    "### ライブラリーのインポート"
   ]
  },
  {
   "cell_type": "code",
   "execution_count": null,
   "metadata": {},
   "outputs": [],
   "source": [
    "import numpy as np\n",
    "import pandas as pd\n",
    "from sklearn import svm\n",
    "from sklearn.model_selection import KFold\n",
    "import matplotlib.pyplot as plt\n",
    "%matplotlib inline"
   ]
  },
  {
   "cell_type": "markdown",
   "metadata": {},
   "source": [
    "- sklearn.model_selection.KFold\n",
    "  - k-分割交差検証のライブラリ"
   ]
  },
  {
   "cell_type": "markdown",
   "metadata": {},
   "source": [
    "### データの読み込み"
   ]
  },
  {
   "cell_type": "code",
   "execution_count": null,
   "metadata": {},
   "outputs": [],
   "source": [
    "data = pd.read_csv('data/weather-elec_data.csv',\n",
    "                   index_col = '日時', parse_dates=True)\n",
    "data.sample(5)"
   ]
  },
  {
   "cell_type": "markdown",
   "metadata": {},
   "source": [
    "- data = pd.read_csv('ファイル名')\n",
    "  - csvファイルを読み込んで、データフレームへ格納する。\n",
    "  - index_col = '日時': 「日時」列をインデックスに設定する。\n",
    "  - parse_dates=True: インデックスをdatetime型に変換する。\n",
    "- data.sample(5)\n",
    "  - ランダムに5つのデータを表示する。"
   ]
  },
  {
   "cell_type": "markdown",
   "metadata": {},
   "source": [
    "### 日時の分割"
   ]
  },
  {
   "cell_type": "code",
   "execution_count": null,
   "metadata": {},
   "outputs": [],
   "source": [
    "# 日時を年・月・日・時に分割\n",
    "data['月'] = data.index.month\n",
    "data['日'] = data.index.day\n",
    "data['時'] = data.index.hour\n",
    "ml_data = data.reset_index(drop=True)\n",
    "ml_data.sample(5)"
   ]
  },
  {
   "cell_type": "markdown",
   "metadata": {},
   "source": [
    "- data['月'] = data.index.month\n",
    "  - インデックスから「月」のデータを切り出して、データ['月']へ代入する。\n",
    "  - data['日'] = 〜 、data['時'] = 〜 も同様の処理\n",
    "- ml_data = data.reset_index(drop=True)\n",
    "  - インデックスを削除して、機械学習用データ（ml_data）とする。"
   ]
  },
  {
   "cell_type": "markdown",
   "metadata": {},
   "source": [
    "### 学習の準備"
   ]
  },
  {
   "cell_type": "code",
   "execution_count": null,
   "metadata": {},
   "outputs": [],
   "source": [
    "# 特徴量（X）と予測対象（y）の設定\n",
    "X = ml_data[['気温', '日照時間']].values\n",
    "y = ml_data[['実績']].values\n",
    "# k分割交差検証の準備\n",
    "kf = KFold(n_splits=5, shuffle=True, random_state=0)"
   ]
  },
  {
   "cell_type": "markdown",
   "metadata": {},
   "source": [
    "- X = 〜 : 気温と日照時間の値を特徴量として取り出す。\n",
    "- y = 〜 : 実績（電力量）を正解データとして取り出す。\n",
    "- kf = KFold(n_splits=5, shuffle=True, random_state=0)\n",
    "  - 5分割交差検証用のデータジェネレータ（kf）を設定する。\n",
    "  - https://scikit-learn.org/stable/modules/generated/sklearn.model_selection.KFold.html"
   ]
  },
  {
   "cell_type": "markdown",
   "metadata": {},
   "source": [
    "### 学習の実行"
   ]
  },
  {
   "cell_type": "code",
   "execution_count": null,
   "metadata": {},
   "outputs": [],
   "source": [
    "cnt = score = 0\n",
    "for train, test in kf.split(X):\n",
    "    X_train, X_test = X[train], X[test]\n",
    "    y_train, y_test = y[train], y[test]\n",
    "\n",
    "    # 学習モデルの生成\n",
    "    model = svm.SVR(gamma = 'auto')\n",
    "    y_train = y_train.flatten()\n",
    "    y_test = y_test.flatten()\n",
    "\n",
    "    # 学習の実行\n",
    "    cnt += 1\n",
    "    print('Executing', cnt)\n",
    "    model.fit(X_train, y_train)\n",
    "    train_score = model.score(X_train, y_train)\n",
    "    test_score  = model.score(X_test, y_test)\n",
    "    score += test_score\n",
    "    print('+ SVR: Training Score = %f, Test Score = %f' \n",
    "          % (train_score, test_score))"
   ]
  },
  {
   "cell_type": "markdown",
   "metadata": {},
   "source": [
    "- for train, test in kf.split(X):\n",
    "  - kf.split(X)：訓練データテストデータにに分割するためのインデックスを生成する。\n",
    "  - for文で分割数回の処理を繰り返す。\n",
    "- model = svm.SVR(gamma = 'auto')\n",
    "  - svm.SVR（回帰モデル)のインスタンスを生成する。\n",
    "- model.fit(X_train, y_train)\n",
    "  - 訓練データを使って機械学習を実行する。\n",
    "- model.score( ･･･ , ･･･ )\n",
    "  - 評価指標（決定係数）の計算を行う（訓練データ／テストデータ）"
   ]
  },
  {
   "cell_type": "markdown",
   "metadata": {},
   "source": [
    "### 学習済みモデルの評価"
   ]
  },
  {
   "cell_type": "code",
   "execution_count": null,
   "metadata": {},
   "outputs": [],
   "source": [
    "avr_score = score / cnt\n",
    "print ('Average Test Score = %f' % avr_score)"
   ]
  },
  {
   "cell_type": "markdown",
   "metadata": {},
   "source": [
    "- avr_score = score / cnt\n",
    "  - 評価指標（決定係数）の平均値を計算する。"
   ]
  },
  {
   "cell_type": "markdown",
   "metadata": {},
   "source": [
    "### 実測値と予測値の相関グラフ"
   ]
  },
  {
   "cell_type": "code",
   "execution_count": null,
   "metadata": {},
   "outputs": [],
   "source": [
    "plt.figure(figsize=(10, 6))\n",
    "pred = model.predict(X)\n",
    "plt.scatter(y, pred, s=0.5, color=\"black\")\n",
    "plt.xlabel('electricity consumption(measured *10000 kW)')\n",
    "plt.ylabel('electricity consumption(predicted *10000 kW)')\n",
    "plt.show()"
   ]
  },
  {
   "cell_type": "markdown",
   "metadata": {},
   "source": [
    "- 横軸：電力消費量の実測値、縦軸: 電力消費量の予測値\n",
    "- 実測と予測が完全に一致すると直線になる。"
   ]
  }
 ],
 "metadata": {
  "kernelspec": {
   "display_name": "Python 3",
   "language": "python",
   "name": "python3"
  },
  "language_info": {
   "codemirror_mode": {
    "name": "ipython",
    "version": 3
   },
   "file_extension": ".py",
   "mimetype": "text/x-python",
   "name": "python",
   "nbconvert_exporter": "python",
   "pygments_lexer": "ipython3",
   "version": "3.7.6"
  }
 },
 "nbformat": 4,
 "nbformat_minor": 4
}
