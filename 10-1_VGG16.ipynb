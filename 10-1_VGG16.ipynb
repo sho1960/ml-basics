{
 "cells": [
  {
   "cell_type": "markdown",
   "metadata": {
    "colab_type": "text",
    "id": "dwa9x3zxk8Ra"
   },
   "source": [
    "## 10-1 学習済みモデルの利用（VGG16）"
   ]
  },
  {
   "cell_type": "markdown",
   "metadata": {
    "colab_type": "text",
    "id": "J7rj8WVRk8Rc"
   },
   "source": [
    "### VGG16モデルの読み込み\n",
    "- 初回実行時にインターネット経由でデータがダウンロードされる。"
   ]
  },
  {
   "cell_type": "code",
   "execution_count": null,
   "metadata": {
    "ExecuteTime": {
     "end_time": "2018-03-26T08:56:32.912190Z",
     "start_time": "2018-03-26T08:56:27.321981Z"
    },
    "colab": {
     "base_uri": "https://localhost:8080/",
     "height": 36
    },
    "colab_type": "code",
    "executionInfo": {
     "elapsed": 5123,
     "status": "ok",
     "timestamp": 1596261410096,
     "user": {
      "displayName": "後藤昌治",
      "photoUrl": "",
      "userId": "06764781364353756290"
     },
     "user_tz": -540
    },
    "id": "58DRFDKUk8Re",
    "outputId": "a2efbdaa-5f84-410c-8f96-8a500af93049"
   },
   "outputs": [],
   "source": [
    "from tensorflow.keras.applications.vgg16 import VGG16\n",
    "model = VGG16()"
   ]
  },
  {
   "cell_type": "markdown",
   "metadata": {
    "colab_type": "text",
    "id": "uF_9pQOhk8Rp"
   },
   "source": [
    "### モデル構成の確認\n",
    "- 入力層のサイズが224x224であり、出力層が1000クラスが確認できる。"
   ]
  },
  {
   "cell_type": "code",
   "execution_count": null,
   "metadata": {
    "ExecuteTime": {
     "end_time": "2018-03-26T08:56:32.946839Z",
     "start_time": "2018-03-26T08:56:32.916951Z"
    },
    "colab": {
     "base_uri": "https://localhost:8080/",
     "height": 1000
    },
    "colab_type": "code",
    "executionInfo": {
     "elapsed": 5117,
     "status": "ok",
     "timestamp": 1596261410098,
     "user": {
      "displayName": "後藤昌治",
      "photoUrl": "",
      "userId": "06764781364353756290"
     },
     "user_tz": -540
    },
    "id": "Rcw-cKy1k8Rr",
    "outputId": "6252b000-36d5-45f7-a05d-cd8ec1bed058"
   },
   "outputs": [],
   "source": [
    "model.summary()"
   ]
  },
  {
   "cell_type": "markdown",
   "metadata": {
    "colab_type": "text",
    "id": "0ugLzVIFk8Rx"
   },
   "source": [
    "### 入力画像の確認\n",
    "- 画像読み込み時にVGG16の入力サイズ224 x 224にリサイズする。"
   ]
  },
  {
   "cell_type": "code",
   "execution_count": null,
   "metadata": {
    "ExecuteTime": {
     "end_time": "2018-03-26T08:56:33.050642Z",
     "start_time": "2018-03-26T08:56:32.953167Z"
    },
    "colab": {},
    "colab_type": "code",
    "executionInfo": {
     "elapsed": 5116,
     "status": "ok",
     "timestamp": 1596261410099,
     "user": {
      "displayName": "後藤昌治",
      "photoUrl": "",
      "userId": "06764781364353756290"
     },
     "user_tz": -540
    },
    "id": "Xdn70mYYk8Ry"
   },
   "outputs": [],
   "source": [
    "from tensorflow.keras.preprocessing.image import load_img\n",
    "img_1 = load_img('images/cat.jpg', target_size=(224, 224))\n",
    "img_2 = load_img('images/dog.jpg', target_size=(224, 224))"
   ]
  },
  {
   "cell_type": "code",
   "execution_count": null,
   "metadata": {
    "ExecuteTime": {
     "end_time": "2018-03-26T08:56:33.099548Z",
     "start_time": "2018-03-26T08:56:33.052939Z"
    },
    "colab": {
     "base_uri": "https://localhost:8080/",
     "height": 241
    },
    "colab_type": "code",
    "executionInfo": {
     "elapsed": 6464,
     "status": "ok",
     "timestamp": 1596261411452,
     "user": {
      "displayName": "後藤昌治",
      "photoUrl": "",
      "userId": "06764781364353756290"
     },
     "user_tz": -540
    },
    "id": "fHOA23ofk8R3",
    "outputId": "193e447f-222b-4814-a818-6a5dc02b3abd"
   },
   "outputs": [],
   "source": [
    "img_1"
   ]
  },
  {
   "cell_type": "code",
   "execution_count": null,
   "metadata": {
    "ExecuteTime": {
     "end_time": "2018-03-26T08:56:33.160356Z",
     "start_time": "2018-03-26T08:56:33.103131Z"
    },
    "colab": {
     "base_uri": "https://localhost:8080/",
     "height": 241
    },
    "colab_type": "code",
    "executionInfo": {
     "elapsed": 6461,
     "status": "ok",
     "timestamp": 1596261411454,
     "user": {
      "displayName": "後藤昌治",
      "photoUrl": "",
      "userId": "06764781364353756290"
     },
     "user_tz": -540
    },
    "id": "UZ3W4Y7xk8R9",
    "outputId": "02b485d9-ffa3-4ebb-ddfb-479dcd2fb861"
   },
   "outputs": [],
   "source": [
    "img_2"
   ]
  },
  {
   "cell_type": "markdown",
   "metadata": {
    "colab_type": "text",
    "id": "pXDQAAtYk8SE"
   },
   "source": [
    "### 数値データへ変換\n",
    "- 画像データを数値データとして扱うためにimg_to_arrayで変換する。"
   ]
  },
  {
   "cell_type": "code",
   "execution_count": null,
   "metadata": {
    "ExecuteTime": {
     "end_time": "2018-03-26T08:56:33.177820Z",
     "start_time": "2018-03-26T08:56:33.164350Z"
    },
    "colab": {},
    "colab_type": "code",
    "executionInfo": {
     "elapsed": 6459,
     "status": "ok",
     "timestamp": 1596261411455,
     "user": {
      "displayName": "後藤昌治",
      "photoUrl": "",
      "userId": "06764781364353756290"
     },
     "user_tz": -540
    },
    "id": "SmoImYjAk8SF"
   },
   "outputs": [],
   "source": [
    "from tensorflow.keras.preprocessing.image import img_to_array\n",
    "array_1 = img_to_array(img_1)\n",
    "array_2 = img_to_array(img_2)"
   ]
  },
  {
   "cell_type": "markdown",
   "metadata": {
    "colab_type": "text",
    "id": "qwdCuNmVk8SI"
   },
   "source": [
    "### VGG16入力用の前処理\n",
    "- 画像をVGG16モデルの事前学習時と同じ状態に合わせて変換する。"
   ]
  },
  {
   "cell_type": "code",
   "execution_count": null,
   "metadata": {
    "ExecuteTime": {
     "end_time": "2018-03-26T08:56:33.194665Z",
     "start_time": "2018-03-26T08:56:33.184046Z"
    },
    "colab": {},
    "colab_type": "code",
    "executionInfo": {
     "elapsed": 6458,
     "status": "ok",
     "timestamp": 1596261411456,
     "user": {
      "displayName": "後藤昌治",
      "photoUrl": "",
      "userId": "06764781364353756290"
     },
     "user_tz": -540
    },
    "id": "FN2caD0Kk8SK"
   },
   "outputs": [],
   "source": [
    "from tensorflow.keras.applications.vgg16 import preprocess_input\n",
    "array_1 = preprocess_input(array_1)\n",
    "array_2 = preprocess_input(array_2)"
   ]
  },
  {
   "cell_type": "markdown",
   "metadata": {
    "colab_type": "text",
    "id": "1iwyKSOok8SN"
   },
   "source": [
    "### 2枚の画像を1つに統合\n",
    "* 複数の画像データを一度に入力し、結果を出力できる。"
   ]
  },
  {
   "cell_type": "code",
   "execution_count": null,
   "metadata": {
    "ExecuteTime": {
     "end_time": "2018-03-26T08:56:33.209276Z",
     "start_time": "2018-03-26T08:56:33.199957Z"
    },
    "colab": {
     "base_uri": "https://localhost:8080/",
     "height": 36
    },
    "colab_type": "code",
    "executionInfo": {
     "elapsed": 6456,
     "status": "ok",
     "timestamp": 1596261411457,
     "user": {
      "displayName": "後藤昌治",
      "photoUrl": "",
      "userId": "06764781364353756290"
     },
     "user_tz": -540
    },
    "id": "KOTCC8Dsk8SP",
    "outputId": "a0cdb3e9-fdeb-46ba-96f3-ad3fc09106d5"
   },
   "outputs": [],
   "source": [
    "import numpy as np\n",
    "array_input = np.stack([array_1, array_2])\n",
    "print('array_input:', array_input.shape)"
   ]
  },
  {
   "cell_type": "markdown",
   "metadata": {
    "colab_type": "text",
    "id": "xDsQ4H5yk8ST"
   },
   "source": [
    "### 推論の実行\n",
    "* 推論では2 x 1000の2次元配列が出力される。"
   ]
  },
  {
   "cell_type": "code",
   "execution_count": null,
   "metadata": {
    "ExecuteTime": {
     "end_time": "2018-03-26T08:56:35.381664Z",
     "start_time": "2018-03-26T08:56:33.224112Z"
    },
    "colab": {
     "base_uri": "https://localhost:8080/",
     "height": 114
    },
    "colab_type": "code",
    "executionInfo": {
     "elapsed": 6787,
     "status": "ok",
     "timestamp": 1596261411793,
     "user": {
      "displayName": "後藤昌治",
      "photoUrl": "",
      "userId": "06764781364353756290"
     },
     "user_tz": -540
    },
    "id": "G8aQUfr4k8SU",
    "outputId": "609fe1d7-adb7-4ce2-94bc-f221a703e76c"
   },
   "outputs": [],
   "source": [
    "pred = model.predict(array_input)\n",
    "print('pred:', pred.shape)\n",
    "pred"
   ]
  },
  {
   "cell_type": "markdown",
   "metadata": {
    "colab_type": "text",
    "id": "lStQ2hL9k8SY"
   },
   "source": [
    "### 予測結果の取得\n",
    "* 予測結果は、1000クラスそれぞれの確率のみで返される。\n",
    "* decode_predictions()を使って、わかりやすい形式に変換する。"
   ]
  },
  {
   "cell_type": "code",
   "execution_count": null,
   "metadata": {
    "ExecuteTime": {
     "end_time": "2018-03-26T08:56:35.395872Z",
     "start_time": "2018-03-26T08:56:35.385246Z"
    },
    "colab": {},
    "colab_type": "code",
    "executionInfo": {
     "elapsed": 6786,
     "status": "ok",
     "timestamp": 1596261411794,
     "user": {
      "displayName": "後藤昌治",
      "photoUrl": "",
      "userId": "06764781364353756290"
     },
     "user_tz": -540
    },
    "id": "df1HhCpKk8SZ"
   },
   "outputs": [],
   "source": [
    "from tensorflow.keras.applications.vgg16 import decode_predictions\n",
    "results = decode_predictions(pred)"
   ]
  },
  {
   "cell_type": "markdown",
   "metadata": {
    "colab_type": "text",
    "id": "m3mIs8nxk8Sd"
   },
   "source": [
    "### 予測結果の表示（第1画像）"
   ]
  },
  {
   "cell_type": "code",
   "execution_count": null,
   "metadata": {
    "ExecuteTime": {
     "end_time": "2018-03-26T08:56:35.408023Z",
     "start_time": "2018-03-26T08:56:35.399402Z"
    },
    "colab": {
     "base_uri": "https://localhost:8080/",
     "height": 114
    },
    "colab_type": "code",
    "executionInfo": {
     "elapsed": 6781,
     "status": "ok",
     "timestamp": 1596261411795,
     "user": {
      "displayName": "後藤昌治",
      "photoUrl": "",
      "userId": "06764781364353756290"
     },
     "user_tz": -540
    },
    "id": "fTI11i2lk8Sd",
    "outputId": "3a516fc0-59f1-4388-d090-7a1f4f9bdca2"
   },
   "outputs": [],
   "source": [
    "results[0]"
   ]
  },
  {
   "cell_type": "markdown",
   "metadata": {
    "colab_type": "text",
    "id": "CAZdSDt9k8Si"
   },
   "source": [
    "### 予測結果の表示（第2画像）"
   ]
  },
  {
   "cell_type": "code",
   "execution_count": null,
   "metadata": {
    "ExecuteTime": {
     "end_time": "2018-03-26T08:56:35.427949Z",
     "start_time": "2018-03-26T08:56:35.413828Z"
    },
    "colab": {
     "base_uri": "https://localhost:8080/",
     "height": 114
    },
    "colab_type": "code",
    "executionInfo": {
     "elapsed": 6776,
     "status": "ok",
     "timestamp": 1596261411796,
     "user": {
      "displayName": "後藤昌治",
      "photoUrl": "",
      "userId": "06764781364353756290"
     },
     "user_tz": -540
    },
    "id": "BI15nYd4k8Sj",
    "outputId": "4544114b-88fb-44d2-f9db-05f7c5f2ae11"
   },
   "outputs": [],
   "source": [
    "results[1]"
   ]
  }
 ],
 "metadata": {
  "colab": {
   "collapsed_sections": [],
   "name": "9-2_VGG16.ipynb",
   "provenance": [],
   "toc_visible": true
  },
  "kernelspec": {
   "display_name": "Python 3",
   "language": "python",
   "name": "python3"
  },
  "language_info": {
   "codemirror_mode": {
    "name": "ipython",
    "version": 3
   },
   "file_extension": ".py",
   "mimetype": "text/x-python",
   "name": "python",
   "nbconvert_exporter": "python",
   "pygments_lexer": "ipython3",
   "version": "3.7.6"
  },
  "toc": {
   "colors": {
    "hover_highlight": "#DAA520",
    "navigate_num": "#000000",
    "navigate_text": "#333333",
    "running_highlight": "#FF0000",
    "selected_highlight": "#FFD700",
    "sidebar_border": "#EEEEEE",
    "wrapper_background": "#FFFFFF"
   },
   "moveMenuLeft": true,
   "nav_menu": {
    "height": "12px",
    "width": "252px"
   },
   "navigate_menu": true,
   "number_sections": true,
   "sideBar": true,
   "threshold": 4,
   "toc_cell": false,
   "toc_section_display": "block",
   "toc_window_display": false,
   "widenNotebook": false
  }
 },
 "nbformat": 4,
 "nbformat_minor": 4
}
