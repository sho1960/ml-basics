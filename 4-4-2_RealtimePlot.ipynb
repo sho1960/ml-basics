{
 "cells": [
  {
   "cell_type": "markdown",
   "metadata": {},
   "source": [
    "## 4-4-2 リアルタイムプロット"
   ]
  },
  {
   "cell_type": "markdown",
   "metadata": {},
   "source": [
    "### ライブラリのインポート"
   ]
  },
  {
   "cell_type": "code",
   "execution_count": null,
   "metadata": {},
   "outputs": [],
   "source": [
    "import random\n",
    "import time\n",
    "from IPython.display import display, clear_output\n",
    "import matplotlib.pyplot as plt\n",
    "%matplotlib inline"
   ]
  },
  {
   "cell_type": "markdown",
   "metadata": {},
   "source": [
    "- random\n",
    "  - 乱数を発生するライブラリ\n",
    "- time\n",
    "  - 時間を扱うライブラリ\n",
    "- IPython.display\n",
    "  - ノートブックの出力表示を制御するライブラリ\n",
    "- matplotlib\n",
    "  - グラフ描画のためのライブラリ"
   ]
  },
  {
   "cell_type": "markdown",
   "metadata": {},
   "source": [
    "### データ生成関数"
   ]
  },
  {
   "cell_type": "code",
   "execution_count": null,
   "metadata": {},
   "outputs": [],
   "source": [
    "def get_data(t, gentime, count):\n",
    "    x, y = [], []\n",
    "    for i in range(count):\n",
    "        t += gentime / count\n",
    "        x.append(t)\n",
    "        y.append(0.5 + random.uniform(-0.2, 0.2)) \n",
    "    return t, x, y"
   ]
  },
  {
   "cell_type": "markdown",
   "metadata": {},
   "source": [
    "- 単位時間ごとに変化するデータを生成する独自関数\n",
    "- 入力パラメータ\n",
    "  - t：現在の時間\n",
    "  - gentime：経過時間（データ生成で経過する時間）\n",
    "  - count：生成データ数\n",
    "- 処理\n",
    "  - 経過時間を生成データ数で分割して時間リストを作成（x軸データ）\n",
    "  - -0.2から0.2の範囲の乱数を0.5に加えたデータリストを作成（y軸データ）\n",
    "- 返り値\n",
    "  - データ生成後の現在時間\n",
    "  - x軸データ（時間リスト）\n",
    "  - y軸データ"
   ]
  },
  {
   "cell_type": "markdown",
   "metadata": {},
   "source": [
    "### パラメータ設定"
   ]
  },
  {
   "cell_type": "code",
   "execution_count": null,
   "metadata": {},
   "outputs": [],
   "source": [
    "dcount = 20    # フレームデータ数\n",
    "dintvl = 1     # 描画インターバル（秒）\n",
    "dtime = 0      # 現在時間の初期値"
   ]
  },
  {
   "cell_type": "markdown",
   "metadata": {},
   "source": [
    "- リアルタイムプロットのパラメータを設定する\n",
    "  - フレームデータ数：1回の描画でプロットするデータ数\n",
    "  - 描画インターバル：描画領域の更新間隔（秒）\n",
    "  - 現在時間の初期値：描画開始の時間（通常 0）"
   ]
  },
  {
   "cell_type": "markdown",
   "metadata": {},
   "source": [
    "### 描画処理（Interrupt ■ ボタンで終了）"
   ]
  },
  {
   "cell_type": "code",
   "execution_count": null,
   "metadata": {},
   "outputs": [],
   "source": [
    "plt.ion()  # インタラクティブモードをオンに設定\n",
    "fig = plt.figure(figsize=(10, 5))\n",
    "ax = fig.add_subplot()\n",
    "try:\n",
    "    while True:\n",
    "        clear_output(wait = True)                  # 描画領域の初期化\n",
    "        ax.set_ylim(0, 1)                          # y軸の範囲\n",
    "        ax.set_xlabel('time')                      # x軸のラベル\n",
    "        ax.set_ylabel('data')                      # y軸のラベル\n",
    "        ax.grid()                                  # グリッド線の表示\n",
    "    \n",
    "        t, x, y = get_data(dtime, dintvl, dcount)  # データの取得\n",
    "        ax.plot(x, y)                              # 描画領域へデータをセット\n",
    "        dtime = t + dintvl / dcount\n",
    "    \n",
    "        print('plotting')\n",
    "        display(fig)                    # 描画領域のグラフを表示\n",
    "        time.sleep(dintvl)              # 指定時間スリープ\n",
    "        ax.cla()                        # 描画領域のデータをクリア\n",
    "\n",
    "except KeyboardInterrupt:               # 割り込み検出時の処理\n",
    "    clear_output(wait = True)\n",
    "    print('stopped')"
   ]
  }
 ],
 "metadata": {
  "kernelspec": {
   "display_name": "Python 3",
   "language": "python",
   "name": "python3"
  },
  "language_info": {
   "codemirror_mode": {
    "name": "ipython",
    "version": 3
   },
   "file_extension": ".py",
   "mimetype": "text/x-python",
   "name": "python",
   "nbconvert_exporter": "python",
   "pygments_lexer": "ipython3",
   "version": "3.7.6"
  }
 },
 "nbformat": 4,
 "nbformat_minor": 4
}
