{
 "cells": [
  {
   "cell_type": "markdown",
   "metadata": {
    "id": "k7Cx5ffLBi5Q"
   },
   "source": [
    "## 3-3-1 グラフ表示プログラム（2D）"
   ]
  },
  {
   "cell_type": "markdown",
   "metadata": {
    "id": "484_v7rnBi5U"
   },
   "source": [
    "### ライブラリのインポート"
   ]
  },
  {
   "cell_type": "code",
   "execution_count": null,
   "metadata": {
    "id": "ytKj7eqmBi5W"
   },
   "outputs": [],
   "source": [
    "import numpy as np\n",
    "import matplotlib.pyplot as plt\n",
    "%matplotlib inline"
   ]
  },
  {
   "cell_type": "markdown",
   "metadata": {},
   "source": [
    "- numpy\n",
    "  - 描画用データの配列を使用するために使用\n",
    "  - https://numpy.org/doc/stable/contents.html\n",
    "- matplotlib\n",
    "  - グラフ描画のためのライブラリ\n",
    "  - https://matplotlib.org/stable/contents.html"
   ]
  },
  {
   "cell_type": "markdown",
   "metadata": {
    "id": "P2sAaUJ7Bi5i"
   },
   "source": [
    "### 描画用データの準備"
   ]
  },
  {
   "cell_type": "code",
   "execution_count": null,
   "metadata": {
    "id": "kRtdhDlzBi5l"
   },
   "outputs": [],
   "source": [
    "x = np.arange(-3, 3, 0.1)\n",
    "y = np.sin(x)\n",
    "x_rand = np.random.rand(100) * 6 - 3\n",
    "y_rand = np.random.rand(100) * 6 - 3"
   ]
  },
  {
   "cell_type": "markdown",
   "metadata": {},
   "source": [
    "- np.arange(-3, 3, 0.1)\n",
    "  - x軸の領域と精度を設定（-3から3まで、0.1刻みの数列を生成）\n",
    "- y_sin\n",
    "  - サイン曲線のデータ。numpyのsin関数を使って生成\n",
    "- x_rand、y_rand\n",
    "  - 乱数データ（x, yともに、-3から3の範囲の乱数を100個生成）"
   ]
  },
  {
   "cell_type": "markdown",
   "metadata": {
    "id": "YtajSK09Bi5r"
   },
   "source": [
    "### グラフの描画"
   ]
  },
  {
   "cell_type": "code",
   "execution_count": null,
   "metadata": {
    "id": "BtMNsyORBi5s"
   },
   "outputs": [],
   "source": [
    "# インスタンスの生成\n",
    "fig, ax = plt.subplots()\n",
    "\n",
    "# 線形グラフ\n",
    "ax.plot(x, y, color='red', label='line')\n",
    "\n",
    "# 散布図\n",
    "ax.scatter(x_rand, y_rand, label='scatter')\n",
    "\n",
    "# 凡例表示とグリッド線の設定\n",
    "ax.legend()\n",
    "ax.grid()"
   ]
  },
  {
   "cell_type": "markdown",
   "metadata": {},
   "source": [
    "- plt.subplots()\n",
    "  - プロット領域（figureオブジェクト）と軸領域（axesオブジェクト）のインスタンスを生成\n",
    "- ax.plot(x, y, ･･･ )\n",
    "  - 線形グラフの描画（color: 色指定、label: ラベル名）\n",
    "- ax.scatter(x, y, ･･･)\n",
    "  - 散布図の描画（x, yには乱数データを使用）"
   ]
  }
 ],
 "metadata": {
  "colab": {
   "collapsed_sections": [],
   "name": "3-4_Graph(2D).ipynb",
   "provenance": []
  },
  "kernelspec": {
   "display_name": "Python 3",
   "language": "python",
   "name": "python3"
  },
  "language_info": {
   "codemirror_mode": {
    "name": "ipython",
    "version": 3
   },
   "file_extension": ".py",
   "mimetype": "text/x-python",
   "name": "python",
   "nbconvert_exporter": "python",
   "pygments_lexer": "ipython3",
   "version": "3.7.6"
  }
 },
 "nbformat": 4,
 "nbformat_minor": 4
}
