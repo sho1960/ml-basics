{
 "cells": [
  {
   "cell_type": "markdown",
   "metadata": {},
   "source": [
    "## 6-3 クラス分類（SVM）"
   ]
  },
  {
   "cell_type": "markdown",
   "metadata": {},
   "source": [
    "### ライブラリーのインポート"
   ]
  },
  {
   "cell_type": "code",
   "execution_count": null,
   "metadata": {
    "id": "YNxlYcxrGr1C"
   },
   "outputs": [],
   "source": [
    "import numpy as np\n",
    "import pandas as pd\n",
    "from sklearn import svm\n",
    "from sklearn.model_selection import train_test_split\n",
    "from sklearn.metrics import confusion_matrix, accuracy_score\n",
    "import matplotlib.pyplot as plt\n",
    "%matplotlib inline"
   ]
  },
  {
   "cell_type": "markdown",
   "metadata": {},
   "source": [
    "- sklearn.svm\n",
    "  - サポートベクターマシン（SVM）のライブラリ\n",
    "- sklearn.metrics\n",
    "  - 評価指標を計算する関数群\n",
    "  - confusion_matrix：混同行列の作成、accuracy_score：正解率の計算"
   ]
  },
  {
   "cell_type": "markdown",
   "metadata": {},
   "source": [
    "### 機械学習用データの生成"
   ]
  },
  {
   "cell_type": "code",
   "execution_count": null,
   "metadata": {
    "id": "VyxIOtNXGr1J"
   },
   "outputs": [],
   "source": [
    "np.random.seed(7)\n",
    "data_x = np.arange(-1, 1, 1/float(100)).reshape(-1, 1)  \n",
    "data_y = np.random.randn(len(data_x), 1) * 0.4\n",
    "CLASS_RADIUS = 0.6\n",
    "labels = (np.square(data_x) + np.square(data_y)) < CLASS_RADIUS ** 2"
   ]
  },
  {
   "cell_type": "markdown",
   "metadata": {},
   "source": [
    "- **data_x**: -1〜1の100個の値\n",
    "- **data_y**: data_xと同数の乱数（標準正規分布：平均0、分散1）で作成する。\n",
    "  - 大きさ調整のため0.4を乗じている。\n",
    "- **CLASS_RADIUS**: 半径\n",
    "- labels = (np.square(data_x) + np.square(data_y)) < CLASS_RADIUS ** 2\n",
    "  - data_xの2乗とdata_yの2乗の和が半径の2乗より小さいものを「原点に近いクラス（True）」、大きいものを「原点から遠いクラス（Failes）」とする。"
   ]
  },
  {
   "cell_type": "code",
   "execution_count": null,
   "metadata": {
    "id": "F4jqNsqQLjTO"
   },
   "outputs": [],
   "source": [
    "# データとラベルをPandasデータフレームへ格納（データ表示用）\n",
    "df = pd.DataFrame(data_x, columns=['data_x'])\n",
    "df['data_y'] = data_y\n",
    "df['label'] = labels\n",
    "\n",
    "# データの表示\n",
    "display('True（近い）', df.query('label == True').head())\n",
    "display('False（遠い）', df.query('label == False').head())"
   ]
  },
  {
   "cell_type": "markdown",
   "metadata": {},
   "source": [
    "- pd.DataFrame(data_x, columns=['data_x'])\n",
    "  - data_xをPandasのデータフレームへ変換する。\n",
    "- df.query('label == True').head()\n",
    "  - ラベルがTrue（原点に近い）クラスのデータの先頭5行を表示する。\n",
    "- df.query('label == False').head()\n",
    "  - ラベルがFalse（原点から遠い）クラスのデータの先頭5行を表示する。"
   ]
  },
  {
   "cell_type": "markdown",
   "metadata": {},
   "source": [
    "### データ散布図の表示"
   ]
  },
  {
   "cell_type": "code",
   "execution_count": null,
   "metadata": {
    "id": "BHNQCKdB3Ize"
   },
   "outputs": [],
   "source": [
    "ax = plt.gca()\n",
    "df.query('label == True').plot(kind='scatter', \n",
    "                               x='data_x', y='data_y', ax=ax, color='red')\n",
    "df.query('label == False').plot(kind='scatter', \n",
    "                                x='data_x', y='data_y', ax=ax)\n",
    "circle  = plt.Circle((0,0), CLASS_RADIUS, alpha=0.2)\n",
    "ax.add_patch(circle)\n",
    "plt.show()"
   ]
  },
  {
   "cell_type": "markdown",
   "metadata": {},
   "source": [
    "- ax = plt.gca()\n",
    "  - 現在の描画領域オブジェクトを取得する。\n",
    "- df.query('label == True').plot(kind='scatter', ･･･)\n",
    "  - True（近い）クラスのデータを散布図に描画する。\n",
    "- df.query('label == False').plot(kind='scatter', ･･･)\n",
    "  - False（遠い）クラスのデータを散布図に描画する。\n",
    "- plt.Circle((0,0), CLASS_RADIUS, alpha=0.2)\n",
    "  - クラス境界の円を描画する（alphaは透明度の指定）。"
   ]
  },
  {
   "cell_type": "markdown",
   "metadata": {},
   "source": [
    "### 訓練／テストデータの分割"
   ]
  },
  {
   "cell_type": "code",
   "execution_count": null,
   "metadata": {
    "id": "DgzeV-j4Gr1N"
   },
   "outputs": [],
   "source": [
    "train_x, test_x, train_y, test_y, train_label, test_label = train_test_split(\n",
    "    data_x, data_y, labels, test_size=0.3, random_state=0)\n",
    "train_label, test_label = train_label.flatten(), test_label.flatten()"
   ]
  },
  {
   "cell_type": "markdown",
   "metadata": {},
   "source": [
    "- train_test_split(data_x, data_y, labels, test_size=0.3, random_state=0)\n",
    "  - 訓練データ80%、テストデータ30%に分割する。\n",
    "- train_label, test_label = train_label.flatten(), test_label.flatten()\n",
    "  - ラベルデータを、1次元の配列へ展開する。"
   ]
  },
  {
   "cell_type": "markdown",
   "metadata": {},
   "source": [
    "### 訓練／テストデータの散布図"
   ]
  },
  {
   "cell_type": "code",
   "execution_count": null,
   "metadata": {
    "id": "Yg-Cqe1jGr1O"
   },
   "outputs": [],
   "source": [
    "ax = plt.gca()\n",
    "plt.scatter(train_x, train_y, marker='v', label='Training Data')\n",
    "plt.scatter(test_x, test_y, marker='^', label='Test Data')\n",
    "circle = plt.Circle((0,0), CLASS_RADIUS, alpha=0.2)\n",
    "ax.add_patch(circle)\n",
    "plt.legend()\n",
    "plt.show()"
   ]
  },
  {
   "cell_type": "markdown",
   "metadata": {},
   "source": [
    "- 訓練データを▼、テストデータを▲で表示する。\n",
    "- plt.Circle((0,0), CLASS_RADIUS, alpha=0.2)\n",
    "  - 座標(0,0)を中心に、半径「CLASS_RADIUS」の円を描く\n",
    "  - alpha：透明度の指定"
   ]
  },
  {
   "cell_type": "markdown",
   "metadata": {},
   "source": [
    "### 機械学習の実行"
   ]
  },
  {
   "cell_type": "code",
   "execution_count": null,
   "metadata": {
    "id": "FH8DY-IoGr1P"
   },
   "outputs": [],
   "source": [
    "# 訓練データとテストデータの配列を作成\n",
    "train_data = np.c_[train_x, train_y]\n",
    "test_data = np.c_[test_x, test_y]\n",
    "\n",
    "# SVM分類器のインスタンス作成と学習実行\n",
    "clf = svm.SVC(kernel='poly', gamma='auto')\n",
    "run = clf.fit(train_data, train_label)"
   ]
  },
  {
   "cell_type": "markdown",
   "metadata": {},
   "source": [
    "- 訓練データ（train_x, train_y）を結合して、train_dataを作成する。\n",
    "- テストデータ（test_x, test_y）を結合して、test_dataを作成する。\n",
    "- clf = svm.SVC(kernel='poly', gamma='auto')\n",
    "  - カーネル関数をpoly（多項式カーネル）として、分類モデルのインスタンスを作成する。\n",
    "- clf.fit(train_data, train_label.flatten())\n",
    "  - 訓練データとラベルを入力して機械学習を実行する。"
   ]
  },
  {
   "cell_type": "markdown",
   "metadata": {},
   "source": [
    "### 学習結果の評価"
   ]
  },
  {
   "cell_type": "code",
   "execution_count": null,
   "metadata": {
    "id": "lLpKBYt_ejFw"
   },
   "outputs": [],
   "source": [
    "# テストデータによる評価\n",
    "pred = clf.predict(test_data)\n",
    "\n",
    "# 混同行列と正解率の表示\n",
    "print('混同行列:\\n', confusion_matrix(test_label, pred))\n",
    "print('正解率:\\n', accuracy_score(test_label, pred)) "
   ]
  },
  {
   "cell_type": "markdown",
   "metadata": {},
   "source": [
    "- pred = clf.predict(test_data)\n",
    "  - テストデータ（test_data）を入力して予測結果（pred）を取得する。\n",
    "- confusion_matrix(test_label, pred)\n",
    "  - 混同行列を取得する。\n",
    "- accuracy_score(test_label, pred))\n",
    "  - 正解率を計算する。"
   ]
  }
 ],
 "metadata": {
  "colab": {
   "collapsed_sections": [],
   "name": "4-3 SVM.ipynb",
   "provenance": []
  },
  "kernelspec": {
   "display_name": "Python 3",
   "language": "python",
   "name": "python3"
  },
  "language_info": {
   "codemirror_mode": {
    "name": "ipython",
    "version": 3
   },
   "file_extension": ".py",
   "mimetype": "text/x-python",
   "name": "python",
   "nbconvert_exporter": "python",
   "pygments_lexer": "ipython3",
   "version": "3.7.6"
  }
 },
 "nbformat": 4,
 "nbformat_minor": 4
}
