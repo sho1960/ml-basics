{
 "cells": [
  {
   "cell_type": "markdown",
   "metadata": {},
   "source": [
    "## 4-2 データ処理の実習"
   ]
  },
  {
   "cell_type": "markdown",
   "metadata": {},
   "source": [
    "### データの選択 − 気象データの読み込み"
   ]
  },
  {
   "cell_type": "code",
   "execution_count": null,
   "metadata": {},
   "outputs": [],
   "source": [
    "import pandas as pd\n",
    "wea = pd.read_csv('data/Weather_data.csv',\n",
    "                  parse_dates=['日時'], index_col = '日時')\n",
    "wea.head()"
   ]
  },
  {
   "cell_type": "markdown",
   "metadata": {},
   "source": [
    "- pandas：データ分析を効率的に行うためのライブラリ\n",
    "  - データの読み込みや統計量の表示、グラフ化、データ分析に関する作業を容易に行うことができる\n",
    "- pd.read_csv(ファイル名, ･･･ )：CSVファイルの読み込み\n",
    "  - 読み込み時に「日時」列を日付型およびインデックスに設定する"
   ]
  },
  {
   "cell_type": "markdown",
   "metadata": {},
   "source": [
    "### データの選択 − 使用データ項目の抽出"
   ]
  },
  {
   "cell_type": "code",
   "execution_count": null,
   "metadata": {},
   "outputs": [],
   "source": [
    "weax = wea[['気温', '湿度', '日照時間']]\n",
    "weax = weax.replace({'--':0, '///':None}).astype('float64')\n",
    "weax.head()"
   ]
  },
  {
   "cell_type": "markdown",
   "metadata": {},
   "source": [
    "- weax：「気温」「湿度」「日照時間」を使用項目として抽出したデータ\n",
    "- weax.replace：データの「--」を「0」、「///」を「None」へ変換する\n",
    "  - 「--」：気象現象が観測されていないことを示す（値は0）\n",
    "  - 「///」：データが記録できなかったことを示す（欠損値）"
   ]
  },
  {
   "cell_type": "markdown",
   "metadata": {},
   "source": [
    "### クリーニング − 欠損値を含むレコード件数の確認"
   ]
  },
  {
   "cell_type": "code",
   "execution_count": null,
   "metadata": {},
   "outputs": [],
   "source": [
    "print(len(weax))\n",
    "weax.isnull().sum()"
   ]
  },
  {
   "cell_type": "markdown",
   "metadata": {},
   "source": [
    "- 全レコード数と欠損値の件数を確認して処理方法を決める\n",
    "  - このデータの場合、欠損値件数が極めて少ないので、欠損値を含むレコードは削除する"
   ]
  },
  {
   "cell_type": "markdown",
   "metadata": {},
   "source": [
    "### クリーニング − 欠損値を含むレコードの削除"
   ]
  },
  {
   "cell_type": "code",
   "execution_count": null,
   "metadata": {},
   "outputs": [],
   "source": [
    "weax = weax.dropna()\n",
    "print(len(weax))\n",
    "print(weax.isnull().sum())\n",
    "weax.describe()"
   ]
  },
  {
   "cell_type": "markdown",
   "metadata": {},
   "source": [
    "- weax.dropna()：欠損値を含むレコードを削除する\n",
    "- len(weax)：全レコード数を確認\n",
    "- weax.isnull().sum()：念のため項目毎の欠損値（null）の合計数を調べる\n",
    "- weax.describe()：基本統計量（平均、標準偏差、最小、最大、四分位数）を確認"
   ]
  },
  {
   "cell_type": "markdown",
   "metadata": {},
   "source": [
    "### クリーニング − 外れ値の確認（四分位範囲による判定）"
   ]
  },
  {
   "cell_type": "code",
   "execution_count": null,
   "metadata": {},
   "outputs": [],
   "source": [
    "for s in ['気温', '湿度']:\n",
    "    q1 = weax[s].describe()['25%'] # 第1四分位数（Q1）を求める\n",
    "    q3 = weax[s].describe()['75%'] # 第3四分位数（Q3）を求める\n",
    "    #四分位範囲（IQR）を求める\n",
    "    iqr = q3 - q1\n",
    "    # 外れ値の基準設定\n",
    "    outl_min = q1 - 1.5 * iqr  \n",
    "    outl_max = q3 + 1.5 * iqr\n",
    "    # 外れ値の範囲確認と判定\n",
    "    print('{:}: {:.1f} 〜 {:.1f}'.format(s, outl_min, outl_max))  \n",
    "    outlier = weax[(weax[s] < outl_min) | (weax[s] > outl_max)]\n",
    "outlier"
   ]
  },
  {
   "cell_type": "markdown",
   "metadata": {},
   "source": [
    "- for s in ['気温', '湿度']：外れ値検出対象の選択\n",
    "  - 日照時間は最小「0」、最大「1」であり、適切な範囲のため外れ値検出の対象外とする\n",
    "- 湿度の外れ値が6件検出されるが、取り得る値と判断し、削除せずそのまま使用する"
   ]
  },
  {
   "cell_type": "markdown",
   "metadata": {},
   "source": [
    "### データの構築 − 派生項目の追加"
   ]
  },
  {
   "cell_type": "code",
   "execution_count": null,
   "metadata": {},
   "outputs": [],
   "source": [
    "weax['曜日'] = weax.index.day_name()\n",
    "weax.head()"
   ]
  },
  {
   "cell_type": "markdown",
   "metadata": {},
   "source": [
    "- 電力消費量は曜日によって変化と考え、曜日を派生項目として追加する\n",
    "- weax['曜日'] = weax.index.day_name()\n",
    "  - weaxのインデックス（日時）から曜日（day_name）を求めて「曜日」列に追加\n",
    "  - 曜日は英語表記（Monday, Tuesday, Wednesday, Thursday, Friday, Saturday, Sunday）"
   ]
  },
  {
   "cell_type": "markdown",
   "metadata": {},
   "source": [
    "### データの統合 − 電力消費量データの読み込み"
   ]
  },
  {
   "cell_type": "code",
   "execution_count": null,
   "metadata": {},
   "outputs": [],
   "source": [
    "elec = pd.read_csv('data/Electricity_data.csv',\n",
    "                   parse_dates ={'日時': ['DATE', 'TIME']},\n",
    "                   index_col = '日時')\n",
    "elec.head()"
   ]
  },
  {
   "cell_type": "markdown",
   "metadata": {},
   "source": [
    "- 電力消費量データを読み込んでデータ統合の準備をする\n",
    "- 読み込み時に ['DATE', 'TIME'] 列を「日時」とし、日付型およびインデックスに設定する"
   ]
  },
  {
   "cell_type": "markdown",
   "metadata": {},
   "source": [
    "### データの統合 − 気象データと電力消費量データの統合"
   ]
  },
  {
   "cell_type": "code",
   "execution_count": null,
   "metadata": {},
   "outputs": [],
   "source": [
    "joined_data = weax.join(elec)\n",
    "joined_data.head()"
   ]
  },
  {
   "cell_type": "markdown",
   "metadata": {},
   "source": [
    "- 日時をキーに気象データと電力消費量データを結合する\n",
    "- weax.join(elec)：インデックス（日時）をキーにして結合する方法"
   ]
  },
  {
   "cell_type": "markdown",
   "metadata": {},
   "source": [
    "### フォーマット変換 − 文字データを数値へ変換"
   ]
  },
  {
   "cell_type": "code",
   "execution_count": null,
   "metadata": {},
   "outputs": [],
   "source": [
    "target_data = pd.get_dummies(joined_data)\n",
    "target_data.head()"
   ]
  },
  {
   "cell_type": "markdown",
   "metadata": {},
   "source": [
    "- 曜日をフラグ化する（多値データのOne-Hotベクトル化）\n",
    "- pd.get_dummies()：文字データを対象にフラグ化するpandasの関数"
   ]
  },
  {
   "cell_type": "markdown",
   "metadata": {},
   "source": [
    "### フォーマット変換 − CSVファイル出力"
   ]
  },
  {
   "cell_type": "code",
   "execution_count": null,
   "metadata": {},
   "outputs": [],
   "source": [
    "target_data.to_csv('data/weather-elec_data.csv')"
   ]
  },
  {
   "cell_type": "markdown",
   "metadata": {},
   "source": [
    "- モデル作成用にCSVファイルへ出力する\n",
    "  - target_data.to_csv()：データ（target_data）をCSVファイルへ出力する\n",
    "- 出力したCSVファイルは、機械学習の実習で使用する"
   ]
  }
 ],
 "metadata": {
  "kernelspec": {
   "display_name": "Python 3",
   "language": "python",
   "name": "python3"
  },
  "language_info": {
   "codemirror_mode": {
    "name": "ipython",
    "version": 3
   },
   "file_extension": ".py",
   "mimetype": "text/x-python",
   "name": "python",
   "nbconvert_exporter": "python",
   "pygments_lexer": "ipython3",
   "version": "3.7.6"
  }
 },
 "nbformat": 4,
 "nbformat_minor": 4
}
