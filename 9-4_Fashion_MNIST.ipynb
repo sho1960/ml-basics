{
 "cells": [
  {
   "cell_type": "markdown",
   "metadata": {},
   "source": [
    "## 9-4 衣料品画像の識別（CNN）"
   ]
  },
  {
   "cell_type": "markdown",
   "metadata": {},
   "source": [
    "### ライブラリのインポート"
   ]
  },
  {
   "cell_type": "code",
   "execution_count": null,
   "metadata": {},
   "outputs": [],
   "source": [
    "import numpy as np\n",
    "from tensorflow.keras.datasets import fashion_mnist\n",
    "from tensorflow.keras.utils import to_categorical\n",
    "from tensorflow.keras.models import Sequential\n",
    "from tensorflow.keras.layers import Flatten, Dense, Dropout \n",
    "from tensorflow.keras.layers import Conv2D, MaxPooling2D\n",
    "from sklearn.metrics import confusion_matrix, accuracy_score\n",
    "import matplotlib.pyplot as plt\n",
    "%matplotlib inline"
   ]
  },
  {
   "cell_type": "markdown",
   "metadata": {},
   "source": [
    "- tensorflow.keras.layers\n",
    "  - Conv2D：畳み込み層を定義するための関数\n",
    "  - MaxPooling2D：プーリング層を定義するための関数"
   ]
  },
  {
   "cell_type": "markdown",
   "metadata": {},
   "source": [
    "### データの読み込み"
   ]
  },
  {
   "cell_type": "code",
   "execution_count": null,
   "metadata": {},
   "outputs": [],
   "source": [
    "(x_train, y_train), (x_test, y_test) = fashion_mnist.load_data()\n",
    "class_names = ['T-shirt/top', 'Trouser', 'Pullover', 'Dress', 'Coat',\n",
    "               'Sandal', 'Shirt', 'Sneaker', 'Bag', 'Ankle boot']"
   ]
  },
  {
   "cell_type": "markdown",
   "metadata": {},
   "source": [
    "- (x_train, y_train), (x_test, y_test) = fashion.mnist.load_data()\n",
    "  - Fashion MNISTデータを読み込んで、訓練データとテストデータへ格納する。\n",
    "  - 初回実行時にインターネット経由でデータがダウンロードされる。\n",
    "- class_names = [ ･･･ ]\n",
    "  - クラス毎の名称（衣料品の種類）を設定したリスト"
   ]
  },
  {
   "cell_type": "markdown",
   "metadata": {},
   "source": [
    "### 先頭の画像25枚の表示"
   ]
  },
  {
   "cell_type": "code",
   "execution_count": null,
   "metadata": {},
   "outputs": [],
   "source": [
    "fig = plt.figure(figsize=(8,8))\n",
    "for i in range(25):\n",
    "    ax = fig.add_subplot(5, 5, i+1, xticks=[], yticks=[],\n",
    "                        xlabel=class_names[y_train[i]])\n",
    "    ax.imshow(x_train[i].reshape(28, 28), cmap='gray_r')"
   ]
  },
  {
   "cell_type": "markdown",
   "metadata": {},
   "source": [
    "- ax = fig.add_subplot(5, 5, i+1, xticks=[], yticks=[], \n",
    "  - xlabel=class_names[y_train[i]])\n",
    "  - サブプロットを追加して、クラス名をラベルで表示する。\n",
    "- ax.imshow(x_train[i].reshape((28, 28)), cmap='gray_r')\n",
    "  - 画像を描画する。cmap='gray_r' はグレースケールで白黒反転の意味。"
   ]
  },
  {
   "cell_type": "markdown",
   "metadata": {},
   "source": [
    "### 訓練／テストデータの作成"
   ]
  },
  {
   "cell_type": "code",
   "execution_count": null,
   "metadata": {},
   "outputs": [],
   "source": [
    "# データの正規化（最小値 0、最大値 1）\n",
    "x_trainc = x_train.reshape(x_train.shape[0], 28, 28, 1) / 255.0\n",
    "x_testc = x_test.reshape(x_test.shape[0], 28, 28, 1) / 255.0\n",
    "# ラベルデータのOne-Hotベクトル化\n",
    "y_trainc = to_categorical(y_train, 10)\n",
    "y_testc = to_categorical(y_test, 10)"
   ]
  },
  {
   "cell_type": "markdown",
   "metadata": {},
   "source": [
    "- x_trainc, x_testc\n",
    "  - 元データの値0〜255を0〜1に変換（Min-Max正規化）したもの。\n",
    "- x_*.reshape(x_*.shape[0], 28, 28, 1)\n",
    "  - 機械学習モデルの入力形式に合わせるため次元数を変換する。\n",
    "- y_trainc, y_testc\n",
    "  - 正解ラベルを2値化（One-hotベクトル化）したもの。"
   ]
  },
  {
   "cell_type": "markdown",
   "metadata": {},
   "source": [
    "### モデルの構築"
   ]
  },
  {
   "cell_type": "code",
   "execution_count": null,
   "metadata": {},
   "outputs": [],
   "source": [
    "model = Sequential()\n",
    "# 畳み込み層\n",
    "model.add(Conv2D(32, (3, 3), activation='relu'))\n",
    "model.add(Conv2D(64, (3, 3), activation='relu'))\n",
    "# プーリング層\n",
    "model.add(MaxPooling2D(pool_size=(2, 2)))\n",
    "# ドロップアウト\n",
    "model.add(Dropout(0.25))\n",
    "# 全結合層・ドロップアウト\n",
    "model.add(Flatten())\n",
    "model.add(Dense(128, activation='relu'))\n",
    "# ドロップアウト\n",
    "model.add(Dropout(0.5))\n",
    "# 出力層\n",
    "model.add(Dense(10, activation='softmax'))"
   ]
  },
  {
   "cell_type": "markdown",
   "metadata": {},
   "source": [
    "- Sequential APIでモデルを定義する。"
   ]
  },
  {
   "cell_type": "markdown",
   "metadata": {},
   "source": [
    "### 学習の実行"
   ]
  },
  {
   "cell_type": "code",
   "execution_count": null,
   "metadata": {},
   "outputs": [],
   "source": [
    "%%time\n",
    "model.compile(loss='categorical_crossentropy',\n",
    "              optimizer='adam',\n",
    "              metrics=['accuracy'])\n",
    "history = model.fit(x_trainc, y_trainc,\n",
    "              batch_size=64,\n",
    "              epochs=10,\n",
    "              validation_split=0.2)"
   ]
  },
  {
   "cell_type": "markdown",
   "metadata": {},
   "source": [
    "- %%time\n",
    "  - 実行時間の測定（参考：CPU単独 約10分、GPU使用 約1分）\n",
    "- model.complie：学習のためのモデルの設定\n",
    "  - 損失関数: categorical_crossentropy （交差エントロピー）\n",
    "  - 最適化アルゴリズム: Adam\n",
    "  - 評価関数: accuracy\n",
    "- model.fit：機械学習の実行\n",
    "  - バッチサイズ: 64\n",
    "  - エポック数: 10\n",
    "  - 検証用データの割合: 0.2 （80%のデータで学習）"
   ]
  },
  {
   "cell_type": "markdown",
   "metadata": {},
   "source": [
    "### モデルの評価"
   ]
  },
  {
   "cell_type": "code",
   "execution_count": null,
   "metadata": {},
   "outputs": [],
   "source": [
    "# 分類予測の取得\n",
    "pred = np.argmax(model.predict(x_testc), axis=-1)\n",
    "# 正解率と混同行列の出力\n",
    "print('Test Accuracy:\\n', accuracy_score(y_test, pred)) \n",
    "print('Confusion Matrix:\\n', confusion_matrix(y_test, pred))"
   ]
  },
  {
   "cell_type": "markdown",
   "metadata": {},
   "source": [
    "- 評価用データを使って、学習済みモデルの分類性能を評価する。"
   ]
  }
 ],
 "metadata": {
  "kernelspec": {
   "display_name": "Python 3",
   "language": "python",
   "name": "python3"
  },
  "language_info": {
   "codemirror_mode": {
    "name": "ipython",
    "version": 3
   },
   "file_extension": ".py",
   "mimetype": "text/x-python",
   "name": "python",
   "nbconvert_exporter": "python",
   "pygments_lexer": "ipython3",
   "version": "3.7.6"
  }
 },
 "nbformat": 4,
 "nbformat_minor": 4
}
