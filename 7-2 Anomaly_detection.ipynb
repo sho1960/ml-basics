{
 "cells": [
  {
   "cell_type": "markdown",
   "metadata": {},
   "source": [
    "## 7-2 機器の異常検知"
   ]
  },
  {
   "cell_type": "markdown",
   "metadata": {},
   "source": [
    "### ライブラリーのインポート"
   ]
  },
  {
   "cell_type": "code",
   "execution_count": null,
   "metadata": {},
   "outputs": [],
   "source": [
    "import numpy as np\n",
    "import pandas as pd\n",
    "import itertools\n",
    "from sklearn.svm import OneClassSVM\n",
    "from sklearn.preprocessing import StandardScaler\n",
    "from sklearn.metrics import precision_recall_fscore_support\n",
    "from sklearn.metrics import confusion_matrix"
   ]
  },
  {
   "cell_type": "markdown",
   "metadata": {},
   "source": [
    "- itertools\n",
    "  - 効率的なループ実行のためのイテレータを生成するライブラリ\n",
    "  - イテレータとは複数の値を持つデータを順番にアクセスするための機能\n",
    "- sklearn.svm.OneClassSVM\n",
    "  - One-class SVMの機械学習ライブラリ\n",
    "- sklearn.preprocessing.StandardScaler\n",
    "  - データの標準化（平均が0で分散が1のデータに変換する操作）のための関数\n",
    "- sklearn.metrics\n",
    "  - precision_recall_fscore_support：適合率、再現率、Fスコアを求める関数\n",
    "  - confusion_matrix：混同行列を求める関数"
   ]
  },
  {
   "cell_type": "markdown",
   "metadata": {},
   "source": [
    "### 訓練データの読み込み"
   ]
  },
  {
   "cell_type": "code",
   "execution_count": null,
   "metadata": {},
   "outputs": [],
   "source": [
    "x_train = pd.read_csv('data/anomaly_train.csv')\n",
    "print('(count, features) = (%d, %d)' % x_train.shape)\n",
    "x_train.sample(3)"
   ]
  },
  {
   "cell_type": "markdown",
   "metadata": {},
   "source": [
    "- 訓練データを読み込んで、件数・項目数およびサンプル3件を出力する。"
   ]
  },
  {
   "cell_type": "markdown",
   "metadata": {},
   "source": [
    "### 検証用データとテストデータの読み込み"
   ]
  },
  {
   "cell_type": "code",
   "execution_count": null,
   "metadata": {},
   "outputs": [],
   "source": [
    "# 検証用データ\n",
    "x_valid = pd.read_csv('data/anomaly_valid.csv')\n",
    "label_valid = pd.read_csv('data/anomaly_valid_label.csv')\n",
    "print('Validation data (normal, anomaly, total) = (%d, %d, %d)' %\n",
    "      ((label_valid == 1).sum(), (label_valid == -1).sum(), \n",
    "       x_valid.shape[0]))\n",
    "\n",
    "# テストデータ\n",
    "x_test = pd.read_csv('data/anomaly_test.csv')\n",
    "label_test = pd.read_csv('data/anomaly_test_label.csv')\n",
    "print('Test data (normal, anomaly, total) = (%d, %d, %d)' %\n",
    "      ((label_test == 1).sum(), (label_test == -1).sum(), \n",
    "       x_test.shape[0]))"
   ]
  },
  {
   "cell_type": "markdown",
   "metadata": {},
   "source": [
    "- 検証用データとテストデータを読み込んで、それぞれの正常・異常データ数と合計を出力する。\n",
    "  - 検証用データ：機械学習のハイパーパラメータの最適値を検証するためのデータ\n",
    "  - テストデータ：学習済みモデルの評価するためのデータ"
   ]
  },
  {
   "cell_type": "markdown",
   "metadata": {},
   "source": [
    "### データの標準化"
   ]
  },
  {
   "cell_type": "code",
   "execution_count": null,
   "metadata": {},
   "outputs": [],
   "source": [
    "sc = StandardScaler()\n",
    "x_train_std = sc.fit_transform(x_train)\n",
    "x_test_std = sc.fit_transform(x_test)\n",
    "x_valid_std = sc.fit_transform(x_valid)"
   ]
  },
  {
   "cell_type": "markdown",
   "metadata": {},
   "source": [
    "- sc = StandardScaler()\n",
    "  - データ標準化処理のインスタンスの生成\n",
    "- sc.fit_transform(･･･)\n",
    "  - データ標準化の実行\n",
    "  - 標準化：（データ - 平均値）/ 標準偏差"
   ]
  },
  {
   "cell_type": "markdown",
   "metadata": {},
   "source": [
    "### ハイパーパラメータの探索"
   ]
  },
  {
   "cell_type": "code",
   "execution_count": null,
   "metadata": {},
   "outputs": [],
   "source": [
    "# パラメータ（nu、gamma）の範囲の設定\n",
    "nu =[0.001, 0.01, 0.1]\n",
    "gamma = [0.1, 0.5, 1.0]\n",
    "\n",
    "# Fスコアが最大となるパラメータの探索\n",
    "cnt, idx, f_score = 0, [], []\n",
    "for n, r in itertools.product(nu, gamma):\n",
    "    cnt += 1\n",
    "    print('Parameter Search', cnt)\n",
    "    ocsvm = OneClassSVM(kernel='rbf', nu=n, gamma=r)\n",
    "    ocsvm.fit(x_train_std)\n",
    "    prec_rec_f = precision_recall_fscore_support(\n",
    "        label_valid, ocsvm.predict(x_valid_std))\n",
    "    f_score.append(np.average(prec_rec_f[2]))\n",
    "    idx.append([n, r])\n",
    "\n",
    "best_idx = idx[np.argmax(f_score)]\n",
    "print('Best Parameter (nu=%.4f, gamma=%.4f)' % (best_idx[0], best_idx[1]))"
   ]
  },
  {
   "cell_type": "markdown",
   "metadata": {},
   "source": [
    "- OneClassSVMのパラメータ（nu、gamma）を変化させ検証用データに対する最適値を探索する。\n",
    "  - nu：異常データの割合を決めるパラメータ\n",
    "  - gamma：分類の複雑さのパラメータ（カーネル係数）\n",
    "  - idxリスト：nuとgammmaの組み合わせ記録用リスト\n",
    "  - f_scoreリスト：Fスコアの記録用リスト\n",
    "- for n, r in itertools.product(nu, gamma):\n",
    "  - 各パラメータの要素を一つずつ取り出した組み合わせでループ処理する。\n",
    "- ocsvm = OneClassSVM(kernel='rbf', nu=n, gamma=r)\n",
    "  - OneClassSVM学習のインスタンスを生成する。\n",
    "- ocsvm.fit(x_train_std)\n",
    "  - OneClassSVMによる学習を実行する。"
   ]
  },
  {
   "cell_type": "markdown",
   "metadata": {},
   "source": [
    "### 機械学習実行と評価"
   ]
  },
  {
   "cell_type": "code",
   "execution_count": null,
   "metadata": {},
   "outputs": [],
   "source": [
    "# 機械学習の実行\n",
    "ocsvm = OneClassSVM(kernel='rbf', nu=best_idx[0], gamma=best_idx[1])\n",
    "ocsvm.fit(x_train_std)\n",
    "\n",
    "# テストデータによる評価\n",
    "y_pred = ocsvm.predict(x_test_std)\n",
    "prec_rec_f = precision_recall_fscore_support(label_test, y_pred)\n",
    "print('Precision %.4f, Recall %.4f, F-score %.4f' % \n",
    "      (np.average(prec_rec_f[0]),    # Precision\n",
    "       np.average(prec_rec_f[1]),    # Recall\n",
    "       np.average(prec_rec_f[2])))   # F-score\n",
    "\n",
    "# 混同行列の表示\n",
    "print('Confusion Matrix')\n",
    "df = pd.DataFrame(confusion_matrix(label_test, y_pred))\n",
    "df.columns = ['anomaly', 'normal']\n",
    "print(df)"
   ]
  },
  {
   "cell_type": "markdown",
   "metadata": {},
   "source": [
    "- 探索により求められた最適なハイパーパラメータ（nu, gamma）で機械学習を実行する。\n",
    "- 学習実行後に、テストデータにより評価する。\n",
    "  - precision_recall_fscore_support：適合率、再現率、Fスコアを求める。\n",
    "  - confusion_matrix：混同行列を求める。"
   ]
  }
 ],
 "metadata": {
  "kernelspec": {
   "display_name": "Python 3",
   "language": "python",
   "name": "python3"
  },
  "language_info": {
   "codemirror_mode": {
    "name": "ipython",
    "version": 3
   },
   "file_extension": ".py",
   "mimetype": "text/x-python",
   "name": "python",
   "nbconvert_exporter": "python",
   "pygments_lexer": "ipython3",
   "version": "3.7.6"
  }
 },
 "nbformat": 4,
 "nbformat_minor": 4
}
